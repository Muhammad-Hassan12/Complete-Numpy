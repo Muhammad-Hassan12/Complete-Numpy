{
 "cells": [
  {
   "cell_type": "markdown",
   "id": "4f64ae5a",
   "metadata": {},
   "source": [
    "# Numpy"
   ]
  },
  {
   "cell_type": "markdown",
   "id": "ee3d7704",
   "metadata": {},
   "source": [
    "Arrays\n",
    "1. Faster\n",
    "2. Contigous memory allocation\n",
    "3. Same data type\n",
    "4. If you want to increase the size, you must have to recreate array\n",
    "\n",
    "List\n",
    "1. Slow\n",
    "2. Sparse memory\n",
    "3. Can store diferent data types\n",
    "4. Can dynamically grow"
   ]
  },
  {
   "cell_type": "markdown",
   "id": "7a4da907",
   "metadata": {},
   "source": [
    "## Comparison of Numpy with Python!"
   ]
  },
  {
   "cell_type": "code",
   "execution_count": 1,
   "id": "b3e4af1e",
   "metadata": {},
   "outputs": [],
   "source": [
    "import numpy as np"
   ]
  },
  {
   "cell_type": "code",
   "execution_count": 2,
   "id": "ad4736b1",
   "metadata": {},
   "outputs": [],
   "source": [
    "python_list = range(1000000)"
   ]
  },
  {
   "cell_type": "code",
   "execution_count": 3,
   "id": "0bcdbbd2",
   "metadata": {},
   "outputs": [],
   "source": [
    "numpy_list = np.arange(1000000)"
   ]
  },
  {
   "cell_type": "markdown",
   "id": "59a1d4a8",
   "metadata": {},
   "source": [
    "#### Multiplying a list with 6, and making a loop of 100"
   ]
  },
  {
   "cell_type": "code",
   "execution_count": 4,
   "id": "e89aa04c",
   "metadata": {},
   "outputs": [
    {
     "name": "stdout",
     "output_type": "stream",
     "text": [
      "CPU times: total: 10 s\n",
      "Wall time: 10.1 s\n"
     ]
    }
   ],
   "source": [
    "%time for i in range(100): result = [i*6 for i in python_list]"
   ]
  },
  {
   "cell_type": "markdown",
   "id": "ad7924f0",
   "metadata": {},
   "source": [
    "#### Multiplying an array with 6, and making a loop of 100"
   ]
  },
  {
   "cell_type": "code",
   "execution_count": 5,
   "id": "19d649de",
   "metadata": {},
   "outputs": [
    {
     "name": "stdout",
     "output_type": "stream",
     "text": [
      "CPU times: total: 188 ms\n",
      "Wall time: 188 ms\n"
     ]
    }
   ],
   "source": [
    "%time for i in range(100): result = numpy_list*6"
   ]
  },
  {
   "cell_type": "markdown",
   "id": "4a1def6f",
   "metadata": {},
   "source": [
    "## Numpy Array Creation"
   ]
  },
  {
   "cell_type": "markdown",
   "id": "8e88342e",
   "metadata": {},
   "source": [
    " #### For one dimensional arrays"
   ]
  },
  {
   "cell_type": "code",
   "execution_count": 6,
   "id": "5b58c9ac",
   "metadata": {},
   "outputs": [],
   "source": [
    "one_d_array = np.zeros((10))"
   ]
  },
  {
   "cell_type": "code",
   "execution_count": 7,
   "id": "e2820670",
   "metadata": {},
   "outputs": [
    {
     "data": {
      "text/plain": [
       "array([0., 0., 0., 0., 0., 0., 0., 0., 0., 0.])"
      ]
     },
     "execution_count": 7,
     "metadata": {},
     "output_type": "execute_result"
    }
   ],
   "source": [
    "one_d_array"
   ]
  },
  {
   "cell_type": "markdown",
   "id": "53311914",
   "metadata": {},
   "source": [
    "#### For two dimensional arrays"
   ]
  },
  {
   "cell_type": "code",
   "execution_count": 8,
   "id": "c314b7c4",
   "metadata": {},
   "outputs": [],
   "source": [
    "two_d_array = np.ones((10,10))"
   ]
  },
  {
   "cell_type": "code",
   "execution_count": 9,
   "id": "908fe728",
   "metadata": {},
   "outputs": [
    {
     "data": {
      "text/plain": [
       "array([[1., 1., 1., 1., 1., 1., 1., 1., 1., 1.],\n",
       "       [1., 1., 1., 1., 1., 1., 1., 1., 1., 1.],\n",
       "       [1., 1., 1., 1., 1., 1., 1., 1., 1., 1.],\n",
       "       [1., 1., 1., 1., 1., 1., 1., 1., 1., 1.],\n",
       "       [1., 1., 1., 1., 1., 1., 1., 1., 1., 1.],\n",
       "       [1., 1., 1., 1., 1., 1., 1., 1., 1., 1.],\n",
       "       [1., 1., 1., 1., 1., 1., 1., 1., 1., 1.],\n",
       "       [1., 1., 1., 1., 1., 1., 1., 1., 1., 1.],\n",
       "       [1., 1., 1., 1., 1., 1., 1., 1., 1., 1.],\n",
       "       [1., 1., 1., 1., 1., 1., 1., 1., 1., 1.]])"
      ]
     },
     "execution_count": 9,
     "metadata": {},
     "output_type": "execute_result"
    }
   ],
   "source": [
    "two_d_array"
   ]
  },
  {
   "cell_type": "markdown",
   "id": "1708b158",
   "metadata": {},
   "source": [
    "The built-in value for making array is 0,1, but it can understand all digits, like:"
   ]
  },
  {
   "cell_type": "markdown",
   "id": "234ab3a4",
   "metadata": {},
   "source": [
    "#### Can multiply divide add substarct to make new values"
   ]
  },
  {
   "cell_type": "code",
   "execution_count": 10,
   "id": "acc3f05e",
   "metadata": {},
   "outputs": [],
   "source": [
    "a = np.ones(10) * 5"
   ]
  },
  {
   "cell_type": "code",
   "execution_count": 11,
   "id": "e5b5daf4",
   "metadata": {},
   "outputs": [
    {
     "data": {
      "text/plain": [
       "array([5., 5., 5., 5., 5., 5., 5., 5., 5., 5.])"
      ]
     },
     "execution_count": 11,
     "metadata": {},
     "output_type": "execute_result"
    }
   ],
   "source": [
    "a"
   ]
  },
  {
   "cell_type": "markdown",
   "id": "66bf6a63",
   "metadata": {},
   "source": [
    "#### Same applies here!"
   ]
  },
  {
   "cell_type": "code",
   "execution_count": 12,
   "id": "d74dab6d",
   "metadata": {},
   "outputs": [],
   "source": [
    "b = np.zeros(5)+10"
   ]
  },
  {
   "cell_type": "code",
   "execution_count": 13,
   "id": "e997fea9",
   "metadata": {},
   "outputs": [
    {
     "data": {
      "text/plain": [
       "array([10., 10., 10., 10., 10.])"
      ]
     },
     "execution_count": 13,
     "metadata": {},
     "output_type": "execute_result"
    }
   ],
   "source": [
    "b"
   ]
  },
  {
   "cell_type": "markdown",
   "id": "2a78d32e",
   "metadata": {},
   "source": [
    "#### Making array by range"
   ]
  },
  {
   "cell_type": "code",
   "execution_count": 14,
   "id": "d4832050",
   "metadata": {},
   "outputs": [],
   "source": [
    "c = np.arange(1,16)"
   ]
  },
  {
   "cell_type": "code",
   "execution_count": 15,
   "id": "e8d4ffe8",
   "metadata": {},
   "outputs": [
    {
     "data": {
      "text/plain": [
       "array([ 1,  2,  3,  4,  5,  6,  7,  8,  9, 10, 11, 12, 13, 14, 15])"
      ]
     },
     "execution_count": 15,
     "metadata": {},
     "output_type": "execute_result"
    }
   ],
   "source": [
    "c"
   ]
  },
  {
   "cell_type": "markdown",
   "id": "a94aae44",
   "metadata": {},
   "source": [
    "## Multi diumentional arrays!"
   ]
  },
  {
   "cell_type": "markdown",
   "id": "b996ba3c",
   "metadata": {},
   "source": [
    "#### Two dimensional array"
   ]
  },
  {
   "cell_type": "code",
   "execution_count": 16,
   "id": "64422e61",
   "metadata": {},
   "outputs": [
    {
     "data": {
      "text/plain": [
       "array([[0., 0., 0., 0., 0., 0.],\n",
       "       [0., 0., 0., 0., 0., 0.],\n",
       "       [0., 0., 0., 0., 0., 0.],\n",
       "       [0., 0., 0., 0., 0., 0.],\n",
       "       [0., 0., 0., 0., 0., 0.]])"
      ]
     },
     "execution_count": 16,
     "metadata": {},
     "output_type": "execute_result"
    }
   ],
   "source": [
    "i = np.zeros((5,6))\n",
    "i"
   ]
  },
  {
   "cell_type": "markdown",
   "id": "6f5f14c7",
   "metadata": {},
   "source": [
    "#### Three dimensional array\n",
    "* The first number '5' is depth of array '6' is coulmn and '7' is row!"
   ]
  },
  {
   "cell_type": "code",
   "execution_count": 17,
   "id": "a9589c70",
   "metadata": {},
   "outputs": [
    {
     "data": {
      "text/plain": [
       "array([[[0., 0., 0., 0., 0., 0., 0.],\n",
       "        [0., 0., 0., 0., 0., 0., 0.],\n",
       "        [0., 0., 0., 0., 0., 0., 0.],\n",
       "        [0., 0., 0., 0., 0., 0., 0.],\n",
       "        [0., 0., 0., 0., 0., 0., 0.],\n",
       "        [0., 0., 0., 0., 0., 0., 0.]],\n",
       "\n",
       "       [[0., 0., 0., 0., 0., 0., 0.],\n",
       "        [0., 0., 0., 0., 0., 0., 0.],\n",
       "        [0., 0., 0., 0., 0., 0., 0.],\n",
       "        [0., 0., 0., 0., 0., 0., 0.],\n",
       "        [0., 0., 0., 0., 0., 0., 0.],\n",
       "        [0., 0., 0., 0., 0., 0., 0.]],\n",
       "\n",
       "       [[0., 0., 0., 0., 0., 0., 0.],\n",
       "        [0., 0., 0., 0., 0., 0., 0.],\n",
       "        [0., 0., 0., 0., 0., 0., 0.],\n",
       "        [0., 0., 0., 0., 0., 0., 0.],\n",
       "        [0., 0., 0., 0., 0., 0., 0.],\n",
       "        [0., 0., 0., 0., 0., 0., 0.]],\n",
       "\n",
       "       [[0., 0., 0., 0., 0., 0., 0.],\n",
       "        [0., 0., 0., 0., 0., 0., 0.],\n",
       "        [0., 0., 0., 0., 0., 0., 0.],\n",
       "        [0., 0., 0., 0., 0., 0., 0.],\n",
       "        [0., 0., 0., 0., 0., 0., 0.],\n",
       "        [0., 0., 0., 0., 0., 0., 0.]],\n",
       "\n",
       "       [[0., 0., 0., 0., 0., 0., 0.],\n",
       "        [0., 0., 0., 0., 0., 0., 0.],\n",
       "        [0., 0., 0., 0., 0., 0., 0.],\n",
       "        [0., 0., 0., 0., 0., 0., 0.],\n",
       "        [0., 0., 0., 0., 0., 0., 0.],\n",
       "        [0., 0., 0., 0., 0., 0., 0.]]])"
      ]
     },
     "execution_count": 17,
     "metadata": {},
     "output_type": "execute_result"
    }
   ],
   "source": [
    "o = np.zeros((5,6,7))\n",
    "o"
   ]
  },
  {
   "cell_type": "markdown",
   "id": "2377d1bc",
   "metadata": {},
   "source": [
    "#### 'n' Dimensional array\n",
    "* Can make n numbers of dimention in arrays.\n",
    "* Normally three dimensional array is enough!"
   ]
  },
  {
   "cell_type": "code",
   "execution_count": 18,
   "id": "4ef8a608",
   "metadata": {},
   "outputs": [
    {
     "data": {
      "text/plain": [
       "array([[[[0., 0., 0., ..., 0., 0., 0.],\n",
       "         [0., 0., 0., ..., 0., 0., 0.],\n",
       "         [0., 0., 0., ..., 0., 0., 0.],\n",
       "         ...,\n",
       "         [0., 0., 0., ..., 0., 0., 0.],\n",
       "         [0., 0., 0., ..., 0., 0., 0.],\n",
       "         [0., 0., 0., ..., 0., 0., 0.]],\n",
       "\n",
       "        [[0., 0., 0., ..., 0., 0., 0.],\n",
       "         [0., 0., 0., ..., 0., 0., 0.],\n",
       "         [0., 0., 0., ..., 0., 0., 0.],\n",
       "         ...,\n",
       "         [0., 0., 0., ..., 0., 0., 0.],\n",
       "         [0., 0., 0., ..., 0., 0., 0.],\n",
       "         [0., 0., 0., ..., 0., 0., 0.]],\n",
       "\n",
       "        [[0., 0., 0., ..., 0., 0., 0.],\n",
       "         [0., 0., 0., ..., 0., 0., 0.],\n",
       "         [0., 0., 0., ..., 0., 0., 0.],\n",
       "         ...,\n",
       "         [0., 0., 0., ..., 0., 0., 0.],\n",
       "         [0., 0., 0., ..., 0., 0., 0.],\n",
       "         [0., 0., 0., ..., 0., 0., 0.]],\n",
       "\n",
       "        [[0., 0., 0., ..., 0., 0., 0.],\n",
       "         [0., 0., 0., ..., 0., 0., 0.],\n",
       "         [0., 0., 0., ..., 0., 0., 0.],\n",
       "         ...,\n",
       "         [0., 0., 0., ..., 0., 0., 0.],\n",
       "         [0., 0., 0., ..., 0., 0., 0.],\n",
       "         [0., 0., 0., ..., 0., 0., 0.]],\n",
       "\n",
       "        [[0., 0., 0., ..., 0., 0., 0.],\n",
       "         [0., 0., 0., ..., 0., 0., 0.],\n",
       "         [0., 0., 0., ..., 0., 0., 0.],\n",
       "         ...,\n",
       "         [0., 0., 0., ..., 0., 0., 0.],\n",
       "         [0., 0., 0., ..., 0., 0., 0.],\n",
       "         [0., 0., 0., ..., 0., 0., 0.]],\n",
       "\n",
       "        [[0., 0., 0., ..., 0., 0., 0.],\n",
       "         [0., 0., 0., ..., 0., 0., 0.],\n",
       "         [0., 0., 0., ..., 0., 0., 0.],\n",
       "         ...,\n",
       "         [0., 0., 0., ..., 0., 0., 0.],\n",
       "         [0., 0., 0., ..., 0., 0., 0.],\n",
       "         [0., 0., 0., ..., 0., 0., 0.]]],\n",
       "\n",
       "\n",
       "       [[[0., 0., 0., ..., 0., 0., 0.],\n",
       "         [0., 0., 0., ..., 0., 0., 0.],\n",
       "         [0., 0., 0., ..., 0., 0., 0.],\n",
       "         ...,\n",
       "         [0., 0., 0., ..., 0., 0., 0.],\n",
       "         [0., 0., 0., ..., 0., 0., 0.],\n",
       "         [0., 0., 0., ..., 0., 0., 0.]],\n",
       "\n",
       "        [[0., 0., 0., ..., 0., 0., 0.],\n",
       "         [0., 0., 0., ..., 0., 0., 0.],\n",
       "         [0., 0., 0., ..., 0., 0., 0.],\n",
       "         ...,\n",
       "         [0., 0., 0., ..., 0., 0., 0.],\n",
       "         [0., 0., 0., ..., 0., 0., 0.],\n",
       "         [0., 0., 0., ..., 0., 0., 0.]],\n",
       "\n",
       "        [[0., 0., 0., ..., 0., 0., 0.],\n",
       "         [0., 0., 0., ..., 0., 0., 0.],\n",
       "         [0., 0., 0., ..., 0., 0., 0.],\n",
       "         ...,\n",
       "         [0., 0., 0., ..., 0., 0., 0.],\n",
       "         [0., 0., 0., ..., 0., 0., 0.],\n",
       "         [0., 0., 0., ..., 0., 0., 0.]],\n",
       "\n",
       "        [[0., 0., 0., ..., 0., 0., 0.],\n",
       "         [0., 0., 0., ..., 0., 0., 0.],\n",
       "         [0., 0., 0., ..., 0., 0., 0.],\n",
       "         ...,\n",
       "         [0., 0., 0., ..., 0., 0., 0.],\n",
       "         [0., 0., 0., ..., 0., 0., 0.],\n",
       "         [0., 0., 0., ..., 0., 0., 0.]],\n",
       "\n",
       "        [[0., 0., 0., ..., 0., 0., 0.],\n",
       "         [0., 0., 0., ..., 0., 0., 0.],\n",
       "         [0., 0., 0., ..., 0., 0., 0.],\n",
       "         ...,\n",
       "         [0., 0., 0., ..., 0., 0., 0.],\n",
       "         [0., 0., 0., ..., 0., 0., 0.],\n",
       "         [0., 0., 0., ..., 0., 0., 0.]],\n",
       "\n",
       "        [[0., 0., 0., ..., 0., 0., 0.],\n",
       "         [0., 0., 0., ..., 0., 0., 0.],\n",
       "         [0., 0., 0., ..., 0., 0., 0.],\n",
       "         ...,\n",
       "         [0., 0., 0., ..., 0., 0., 0.],\n",
       "         [0., 0., 0., ..., 0., 0., 0.],\n",
       "         [0., 0., 0., ..., 0., 0., 0.]]],\n",
       "\n",
       "\n",
       "       [[[0., 0., 0., ..., 0., 0., 0.],\n",
       "         [0., 0., 0., ..., 0., 0., 0.],\n",
       "         [0., 0., 0., ..., 0., 0., 0.],\n",
       "         ...,\n",
       "         [0., 0., 0., ..., 0., 0., 0.],\n",
       "         [0., 0., 0., ..., 0., 0., 0.],\n",
       "         [0., 0., 0., ..., 0., 0., 0.]],\n",
       "\n",
       "        [[0., 0., 0., ..., 0., 0., 0.],\n",
       "         [0., 0., 0., ..., 0., 0., 0.],\n",
       "         [0., 0., 0., ..., 0., 0., 0.],\n",
       "         ...,\n",
       "         [0., 0., 0., ..., 0., 0., 0.],\n",
       "         [0., 0., 0., ..., 0., 0., 0.],\n",
       "         [0., 0., 0., ..., 0., 0., 0.]],\n",
       "\n",
       "        [[0., 0., 0., ..., 0., 0., 0.],\n",
       "         [0., 0., 0., ..., 0., 0., 0.],\n",
       "         [0., 0., 0., ..., 0., 0., 0.],\n",
       "         ...,\n",
       "         [0., 0., 0., ..., 0., 0., 0.],\n",
       "         [0., 0., 0., ..., 0., 0., 0.],\n",
       "         [0., 0., 0., ..., 0., 0., 0.]],\n",
       "\n",
       "        [[0., 0., 0., ..., 0., 0., 0.],\n",
       "         [0., 0., 0., ..., 0., 0., 0.],\n",
       "         [0., 0., 0., ..., 0., 0., 0.],\n",
       "         ...,\n",
       "         [0., 0., 0., ..., 0., 0., 0.],\n",
       "         [0., 0., 0., ..., 0., 0., 0.],\n",
       "         [0., 0., 0., ..., 0., 0., 0.]],\n",
       "\n",
       "        [[0., 0., 0., ..., 0., 0., 0.],\n",
       "         [0., 0., 0., ..., 0., 0., 0.],\n",
       "         [0., 0., 0., ..., 0., 0., 0.],\n",
       "         ...,\n",
       "         [0., 0., 0., ..., 0., 0., 0.],\n",
       "         [0., 0., 0., ..., 0., 0., 0.],\n",
       "         [0., 0., 0., ..., 0., 0., 0.]],\n",
       "\n",
       "        [[0., 0., 0., ..., 0., 0., 0.],\n",
       "         [0., 0., 0., ..., 0., 0., 0.],\n",
       "         [0., 0., 0., ..., 0., 0., 0.],\n",
       "         ...,\n",
       "         [0., 0., 0., ..., 0., 0., 0.],\n",
       "         [0., 0., 0., ..., 0., 0., 0.],\n",
       "         [0., 0., 0., ..., 0., 0., 0.]]],\n",
       "\n",
       "\n",
       "       [[[0., 0., 0., ..., 0., 0., 0.],\n",
       "         [0., 0., 0., ..., 0., 0., 0.],\n",
       "         [0., 0., 0., ..., 0., 0., 0.],\n",
       "         ...,\n",
       "         [0., 0., 0., ..., 0., 0., 0.],\n",
       "         [0., 0., 0., ..., 0., 0., 0.],\n",
       "         [0., 0., 0., ..., 0., 0., 0.]],\n",
       "\n",
       "        [[0., 0., 0., ..., 0., 0., 0.],\n",
       "         [0., 0., 0., ..., 0., 0., 0.],\n",
       "         [0., 0., 0., ..., 0., 0., 0.],\n",
       "         ...,\n",
       "         [0., 0., 0., ..., 0., 0., 0.],\n",
       "         [0., 0., 0., ..., 0., 0., 0.],\n",
       "         [0., 0., 0., ..., 0., 0., 0.]],\n",
       "\n",
       "        [[0., 0., 0., ..., 0., 0., 0.],\n",
       "         [0., 0., 0., ..., 0., 0., 0.],\n",
       "         [0., 0., 0., ..., 0., 0., 0.],\n",
       "         ...,\n",
       "         [0., 0., 0., ..., 0., 0., 0.],\n",
       "         [0., 0., 0., ..., 0., 0., 0.],\n",
       "         [0., 0., 0., ..., 0., 0., 0.]],\n",
       "\n",
       "        [[0., 0., 0., ..., 0., 0., 0.],\n",
       "         [0., 0., 0., ..., 0., 0., 0.],\n",
       "         [0., 0., 0., ..., 0., 0., 0.],\n",
       "         ...,\n",
       "         [0., 0., 0., ..., 0., 0., 0.],\n",
       "         [0., 0., 0., ..., 0., 0., 0.],\n",
       "         [0., 0., 0., ..., 0., 0., 0.]],\n",
       "\n",
       "        [[0., 0., 0., ..., 0., 0., 0.],\n",
       "         [0., 0., 0., ..., 0., 0., 0.],\n",
       "         [0., 0., 0., ..., 0., 0., 0.],\n",
       "         ...,\n",
       "         [0., 0., 0., ..., 0., 0., 0.],\n",
       "         [0., 0., 0., ..., 0., 0., 0.],\n",
       "         [0., 0., 0., ..., 0., 0., 0.]],\n",
       "\n",
       "        [[0., 0., 0., ..., 0., 0., 0.],\n",
       "         [0., 0., 0., ..., 0., 0., 0.],\n",
       "         [0., 0., 0., ..., 0., 0., 0.],\n",
       "         ...,\n",
       "         [0., 0., 0., ..., 0., 0., 0.],\n",
       "         [0., 0., 0., ..., 0., 0., 0.],\n",
       "         [0., 0., 0., ..., 0., 0., 0.]]],\n",
       "\n",
       "\n",
       "       [[[0., 0., 0., ..., 0., 0., 0.],\n",
       "         [0., 0., 0., ..., 0., 0., 0.],\n",
       "         [0., 0., 0., ..., 0., 0., 0.],\n",
       "         ...,\n",
       "         [0., 0., 0., ..., 0., 0., 0.],\n",
       "         [0., 0., 0., ..., 0., 0., 0.],\n",
       "         [0., 0., 0., ..., 0., 0., 0.]],\n",
       "\n",
       "        [[0., 0., 0., ..., 0., 0., 0.],\n",
       "         [0., 0., 0., ..., 0., 0., 0.],\n",
       "         [0., 0., 0., ..., 0., 0., 0.],\n",
       "         ...,\n",
       "         [0., 0., 0., ..., 0., 0., 0.],\n",
       "         [0., 0., 0., ..., 0., 0., 0.],\n",
       "         [0., 0., 0., ..., 0., 0., 0.]],\n",
       "\n",
       "        [[0., 0., 0., ..., 0., 0., 0.],\n",
       "         [0., 0., 0., ..., 0., 0., 0.],\n",
       "         [0., 0., 0., ..., 0., 0., 0.],\n",
       "         ...,\n",
       "         [0., 0., 0., ..., 0., 0., 0.],\n",
       "         [0., 0., 0., ..., 0., 0., 0.],\n",
       "         [0., 0., 0., ..., 0., 0., 0.]],\n",
       "\n",
       "        [[0., 0., 0., ..., 0., 0., 0.],\n",
       "         [0., 0., 0., ..., 0., 0., 0.],\n",
       "         [0., 0., 0., ..., 0., 0., 0.],\n",
       "         ...,\n",
       "         [0., 0., 0., ..., 0., 0., 0.],\n",
       "         [0., 0., 0., ..., 0., 0., 0.],\n",
       "         [0., 0., 0., ..., 0., 0., 0.]],\n",
       "\n",
       "        [[0., 0., 0., ..., 0., 0., 0.],\n",
       "         [0., 0., 0., ..., 0., 0., 0.],\n",
       "         [0., 0., 0., ..., 0., 0., 0.],\n",
       "         ...,\n",
       "         [0., 0., 0., ..., 0., 0., 0.],\n",
       "         [0., 0., 0., ..., 0., 0., 0.],\n",
       "         [0., 0., 0., ..., 0., 0., 0.]],\n",
       "\n",
       "        [[0., 0., 0., ..., 0., 0., 0.],\n",
       "         [0., 0., 0., ..., 0., 0., 0.],\n",
       "         [0., 0., 0., ..., 0., 0., 0.],\n",
       "         ...,\n",
       "         [0., 0., 0., ..., 0., 0., 0.],\n",
       "         [0., 0., 0., ..., 0., 0., 0.],\n",
       "         [0., 0., 0., ..., 0., 0., 0.]]]])"
      ]
     },
     "execution_count": 18,
     "metadata": {},
     "output_type": "execute_result"
    }
   ],
   "source": [
    "p = np.zeros((5,6,7,8))\n",
    "p"
   ]
  },
  {
   "cell_type": "markdown",
   "id": "42dee3ae",
   "metadata": {},
   "source": [
    "#### To check the shape"
   ]
  },
  {
   "cell_type": "code",
   "execution_count": 19,
   "id": "a31b4521",
   "metadata": {},
   "outputs": [
    {
     "data": {
      "text/plain": [
       "(5, 6, 7, 8)"
      ]
     },
     "execution_count": 19,
     "metadata": {},
     "output_type": "execute_result"
    }
   ],
   "source": [
    "p.shape"
   ]
  },
  {
   "cell_type": "markdown",
   "id": "ce765154",
   "metadata": {},
   "source": [
    "## Custom elements arrays"
   ]
  },
  {
   "cell_type": "code",
   "execution_count": 20,
   "id": "a2988deb",
   "metadata": {},
   "outputs": [
    {
     "data": {
      "text/plain": [
       "array([45, 32, 46, 84, 31,  6, 56, 21])"
      ]
     },
     "execution_count": 20,
     "metadata": {},
     "output_type": "execute_result"
    }
   ],
   "source": [
    "x = np.array([45,32,46,84,31,6,56,21])\n",
    "x"
   ]
  },
  {
   "cell_type": "code",
   "execution_count": 21,
   "id": "1a41fac1",
   "metadata": {},
   "outputs": [
    {
     "data": {
      "text/plain": [
       "(8,)"
      ]
     },
     "execution_count": 21,
     "metadata": {},
     "output_type": "execute_result"
    }
   ],
   "source": [
    "x.shape"
   ]
  },
  {
   "cell_type": "markdown",
   "id": "467d25a5",
   "metadata": {},
   "source": [
    "## Reshaping an array"
   ]
  },
  {
   "cell_type": "markdown",
   "id": "ae085f33",
   "metadata": {},
   "source": [
    "* the first number is always Row and the second number is Coloumn!"
   ]
  },
  {
   "cell_type": "code",
   "execution_count": 22,
   "id": "ca7ba660",
   "metadata": {},
   "outputs": [
    {
     "data": {
      "text/plain": [
       "array([[45, 32],\n",
       "       [46, 84],\n",
       "       [31,  6],\n",
       "       [56, 21]])"
      ]
     },
     "execution_count": 22,
     "metadata": {},
     "output_type": "execute_result"
    }
   ],
   "source": [
    "y = x.reshape(4,2)\n",
    "y"
   ]
  },
  {
   "cell_type": "code",
   "execution_count": 23,
   "id": "def14491",
   "metadata": {},
   "outputs": [
    {
     "data": {
      "text/plain": [
       "(4, 2)"
      ]
     },
     "execution_count": 23,
     "metadata": {},
     "output_type": "execute_result"
    }
   ],
   "source": [
    "y.shape"
   ]
  },
  {
   "cell_type": "markdown",
   "id": "8e459132",
   "metadata": {},
   "source": [
    "#### To check the numbers of dimension"
   ]
  },
  {
   "cell_type": "code",
   "execution_count": 24,
   "id": "90386253",
   "metadata": {},
   "outputs": [
    {
     "data": {
      "text/plain": [
       "2"
      ]
     },
     "execution_count": 24,
     "metadata": {},
     "output_type": "execute_result"
    }
   ],
   "source": [
    "y.ndim"
   ]
  },
  {
   "cell_type": "markdown",
   "id": "b6c1589f",
   "metadata": {},
   "source": [
    "## for accessing indivisual elements"
   ]
  },
  {
   "cell_type": "code",
   "execution_count": 25,
   "id": "1de7cdff",
   "metadata": {},
   "outputs": [
    {
     "data": {
      "text/plain": [
       "6"
      ]
     },
     "execution_count": 25,
     "metadata": {},
     "output_type": "execute_result"
    }
   ],
   "source": [
    "y[2,1]"
   ]
  },
  {
   "cell_type": "code",
   "execution_count": 26,
   "id": "6f14cb12",
   "metadata": {},
   "outputs": [
    {
     "data": {
      "text/plain": [
       "56"
      ]
     },
     "execution_count": 26,
     "metadata": {},
     "output_type": "execute_result"
    }
   ],
   "source": [
    "y[3,0]"
   ]
  },
  {
   "cell_type": "code",
   "execution_count": 27,
   "id": "91f2c376",
   "metadata": {},
   "outputs": [
    {
     "data": {
      "text/plain": [
       "array([[[45, 32],\n",
       "        [46, 84]],\n",
       "\n",
       "       [[31,  6],\n",
       "        [56, 21]]])"
      ]
     },
     "execution_count": 27,
     "metadata": {},
     "output_type": "execute_result"
    }
   ],
   "source": [
    "y = x.reshape(2,2,2)\n",
    "y"
   ]
  },
  {
   "cell_type": "code",
   "execution_count": 28,
   "id": "6f83b148",
   "metadata": {},
   "outputs": [
    {
     "data": {
      "text/plain": [
       "31"
      ]
     },
     "execution_count": 28,
     "metadata": {},
     "output_type": "execute_result"
    }
   ],
   "source": [
    "y[1,0,0]"
   ]
  },
  {
   "cell_type": "markdown",
   "id": "7ddf4688",
   "metadata": {},
   "source": [
    "## Slicing\n",
    "Slicing dependes on three things:\n",
    "1. Start\n",
    "2. End\n",
    "3. Step"
   ]
  },
  {
   "cell_type": "code",
   "execution_count": 29,
   "id": "bc9f3c9c",
   "metadata": {},
   "outputs": [],
   "source": [
    "y = y.reshape(4,2)"
   ]
  },
  {
   "cell_type": "code",
   "execution_count": 30,
   "id": "dec25944",
   "metadata": {},
   "outputs": [
    {
     "data": {
      "text/plain": [
       "array([[45, 32],\n",
       "       [46, 84],\n",
       "       [31,  6],\n",
       "       [56, 21]])"
      ]
     },
     "execution_count": 30,
     "metadata": {},
     "output_type": "execute_result"
    }
   ],
   "source": [
    "y"
   ]
  },
  {
   "cell_type": "code",
   "execution_count": 31,
   "id": "75aff151",
   "metadata": {},
   "outputs": [
    {
     "data": {
      "text/plain": [
       "array([[46, 84],\n",
       "       [31,  6]])"
      ]
     },
     "execution_count": 31,
     "metadata": {},
     "output_type": "execute_result"
    }
   ],
   "source": [
    "y[1:3]"
   ]
  },
  {
   "cell_type": "markdown",
   "id": "13ac5ed9",
   "metadata": {},
   "source": [
    "#### Mixing indexing and slicing"
   ]
  },
  {
   "cell_type": "markdown",
   "id": "d5349a80",
   "metadata": {},
   "source": [
    "* \"1:4\" is representing the slicing and \"0\" is coloumn"
   ]
  },
  {
   "cell_type": "code",
   "execution_count": 32,
   "id": "39122be8",
   "metadata": {},
   "outputs": [
    {
     "data": {
      "text/plain": [
       "array([46, 31, 56])"
      ]
     },
     "execution_count": 32,
     "metadata": {},
     "output_type": "execute_result"
    }
   ],
   "source": [
    "y[1:4,0]"
   ]
  },
  {
   "cell_type": "code",
   "execution_count": 33,
   "id": "d1c80cb1",
   "metadata": {},
   "outputs": [
    {
     "data": {
      "text/plain": [
       "array([[45, 32],\n",
       "       [46, 84],\n",
       "       [31,  6],\n",
       "       [56, 21]])"
      ]
     },
     "execution_count": 33,
     "metadata": {},
     "output_type": "execute_result"
    }
   ],
   "source": [
    "y"
   ]
  },
  {
   "cell_type": "markdown",
   "id": "272a3da4",
   "metadata": {},
   "source": [
    "* \" :: \" Representing all components of array and \"2\" is representing the step size."
   ]
  },
  {
   "cell_type": "code",
   "execution_count": 34,
   "id": "5530d4b6",
   "metadata": {},
   "outputs": [
    {
     "data": {
      "text/plain": [
       "array([[45, 32],\n",
       "       [31,  6]])"
      ]
     },
     "execution_count": 34,
     "metadata": {},
     "output_type": "execute_result"
    }
   ],
   "source": [
    "y[::2]"
   ]
  },
  {
   "cell_type": "code",
   "execution_count": 35,
   "id": "a3aecc2a",
   "metadata": {},
   "outputs": [
    {
     "data": {
      "text/plain": [
       "array([[45, 32],\n",
       "       [46, 84],\n",
       "       [31,  6],\n",
       "       [56, 21]])"
      ]
     },
     "execution_count": 35,
     "metadata": {},
     "output_type": "execute_result"
    }
   ],
   "source": [
    "y"
   ]
  },
  {
   "cell_type": "code",
   "execution_count": 36,
   "id": "fed5c170",
   "metadata": {},
   "outputs": [
    {
     "data": {
      "text/plain": [
       "array([45, 46, 31, 56])"
      ]
     },
     "execution_count": 36,
     "metadata": {},
     "output_type": "execute_result"
    }
   ],
   "source": [
    "y[::,0]"
   ]
  },
  {
   "cell_type": "code",
   "execution_count": 37,
   "id": "d17940bd",
   "metadata": {},
   "outputs": [
    {
     "data": {
      "text/plain": [
       "array([32, 84,  6, 21])"
      ]
     },
     "execution_count": 37,
     "metadata": {},
     "output_type": "execute_result"
    }
   ],
   "source": [
    "y[::,1]"
   ]
  },
  {
   "cell_type": "code",
   "execution_count": 38,
   "id": "84de8d85",
   "metadata": {},
   "outputs": [
    {
     "data": {
      "text/plain": [
       "array([31,  6])"
      ]
     },
     "execution_count": 38,
     "metadata": {},
     "output_type": "execute_result"
    }
   ],
   "source": [
    "y[2,::]"
   ]
  },
  {
   "cell_type": "code",
   "execution_count": 39,
   "id": "3f35abb8",
   "metadata": {},
   "outputs": [
    {
     "data": {
      "text/plain": [
       "array([45, 31])"
      ]
     },
     "execution_count": 39,
     "metadata": {},
     "output_type": "execute_result"
    }
   ],
   "source": [
    "y[::2,0]"
   ]
  },
  {
   "cell_type": "markdown",
   "id": "0a3b2aec",
   "metadata": {},
   "source": [
    "#### For Fancy Indexing"
   ]
  },
  {
   "cell_type": "code",
   "execution_count": 40,
   "id": "fd43fb11",
   "metadata": {},
   "outputs": [
    {
     "data": {
      "text/plain": [
       "array([45, 32, 46, 84, 31,  6, 56, 21])"
      ]
     },
     "execution_count": 40,
     "metadata": {},
     "output_type": "execute_result"
    }
   ],
   "source": [
    "x"
   ]
  },
  {
   "cell_type": "markdown",
   "id": "23e1475f",
   "metadata": {},
   "source": [
    "* Have to pass double list (double square bracket)"
   ]
  },
  {
   "cell_type": "code",
   "execution_count": 41,
   "id": "d88e30b1",
   "metadata": {},
   "outputs": [
    {
     "data": {
      "text/plain": [
       "array([46, 21])"
      ]
     },
     "execution_count": 41,
     "metadata": {},
     "output_type": "execute_result"
    }
   ],
   "source": [
    "x[[2,7]]"
   ]
  },
  {
   "cell_type": "markdown",
   "id": "36b3ed51",
   "metadata": {},
   "source": [
    "## Vectorizing operations"
   ]
  },
  {
   "cell_type": "code",
   "execution_count": 42,
   "id": "6ac22feb",
   "metadata": {},
   "outputs": [
    {
     "data": {
      "text/plain": [
       "array([73, 64, 34])"
      ]
     },
     "execution_count": 42,
     "metadata": {},
     "output_type": "execute_result"
    }
   ],
   "source": [
    "num1 = np.array([73,64,34])\n",
    "num1"
   ]
  },
  {
   "cell_type": "code",
   "execution_count": 43,
   "id": "537acfea",
   "metadata": {},
   "outputs": [
    {
     "data": {
      "text/plain": [
       "array([44, 88, 55])"
      ]
     },
     "execution_count": 43,
     "metadata": {},
     "output_type": "execute_result"
    }
   ],
   "source": [
    "num2 = np.array([44,88,55])\n",
    "num2"
   ]
  },
  {
   "cell_type": "code",
   "execution_count": 44,
   "id": "45a6ae83",
   "metadata": {},
   "outputs": [
    {
     "data": {
      "text/plain": [
       "array([117, 152,  89])"
      ]
     },
     "execution_count": 44,
     "metadata": {},
     "output_type": "execute_result"
    }
   ],
   "source": [
    "num1 + num2"
   ]
  },
  {
   "cell_type": "code",
   "execution_count": 45,
   "id": "d1149ac1",
   "metadata": {},
   "outputs": [
    {
     "data": {
      "text/plain": [
       "array([ 29, -24, -21])"
      ]
     },
     "execution_count": 45,
     "metadata": {},
     "output_type": "execute_result"
    }
   ],
   "source": [
    "num1 - num2"
   ]
  },
  {
   "cell_type": "code",
   "execution_count": 46,
   "id": "5342dec9",
   "metadata": {},
   "outputs": [
    {
     "data": {
      "text/plain": [
       "array([24, 31, 11])"
      ]
     },
     "execution_count": 46,
     "metadata": {},
     "output_type": "execute_result"
    }
   ],
   "source": [
    "num3 = np.array([24,31,11])\n",
    "num3"
   ]
  },
  {
   "cell_type": "code",
   "execution_count": 47,
   "id": "327f6eec",
   "metadata": {},
   "outputs": [
    {
     "data": {
      "text/plain": [
       "array([133.83333333, 181.67741935, 170.        ])"
      ]
     },
     "execution_count": 47,
     "metadata": {},
     "output_type": "execute_result"
    }
   ],
   "source": [
    "(num1/num3)*num2"
   ]
  },
  {
   "cell_type": "code",
   "execution_count": 48,
   "id": "2d39b7cf",
   "metadata": {},
   "outputs": [
    {
     "data": {
      "text/plain": [
       "array([0.09090909, 0.04545455, 0.07272727])"
      ]
     },
     "execution_count": 48,
     "metadata": {},
     "output_type": "execute_result"
    }
   ],
   "source": [
    "4/num2"
   ]
  },
  {
   "cell_type": "code",
   "execution_count": 49,
   "id": "5c0290b9",
   "metadata": {},
   "outputs": [
    {
     "data": {
      "text/plain": [
       "array([584, 512, 272])"
      ]
     },
     "execution_count": 49,
     "metadata": {},
     "output_type": "execute_result"
    }
   ],
   "source": [
    "8*num1"
   ]
  },
  {
   "cell_type": "code",
   "execution_count": 50,
   "id": "7e1c3048",
   "metadata": {},
   "outputs": [
    {
     "data": {
      "text/plain": [
       "array([42048, 61504,  4114])"
      ]
     },
     "execution_count": 50,
     "metadata": {},
     "output_type": "execute_result"
    }
   ],
   "source": [
    "num1*num3**2"
   ]
  },
  {
   "cell_type": "markdown",
   "id": "a28a89e1",
   "metadata": {},
   "source": [
    "## Practicing shapes"
   ]
  },
  {
   "cell_type": "code",
   "execution_count": 51,
   "id": "126a382a",
   "metadata": {},
   "outputs": [
    {
     "data": {
      "text/plain": [
       "array([[0., 0., 0., 0., 0.],\n",
       "       [0., 0., 0., 0., 0.],\n",
       "       [0., 0., 0., 0., 0.],\n",
       "       [0., 0., 0., 0., 0.],\n",
       "       [0., 0., 0., 0., 0.]])"
      ]
     },
     "execution_count": 51,
     "metadata": {},
     "output_type": "execute_result"
    }
   ],
   "source": [
    "t = np.zeros((5,5))\n",
    "t"
   ]
  },
  {
   "cell_type": "code",
   "execution_count": 52,
   "id": "86707863",
   "metadata": {},
   "outputs": [],
   "source": [
    "t[0] = 1"
   ]
  },
  {
   "cell_type": "code",
   "execution_count": 53,
   "id": "52feb0d3",
   "metadata": {},
   "outputs": [],
   "source": [
    "t[4] = 1"
   ]
  },
  {
   "cell_type": "code",
   "execution_count": 54,
   "id": "6af2762c",
   "metadata": {},
   "outputs": [
    {
     "data": {
      "text/plain": [
       "array([[1., 1., 1., 1., 1.],\n",
       "       [0., 0., 0., 0., 0.],\n",
       "       [0., 0., 0., 0., 0.],\n",
       "       [0., 0., 0., 0., 0.],\n",
       "       [1., 1., 1., 1., 1.]])"
      ]
     },
     "execution_count": 54,
     "metadata": {},
     "output_type": "execute_result"
    }
   ],
   "source": [
    "t"
   ]
  },
  {
   "cell_type": "code",
   "execution_count": 55,
   "id": "38b0f2fe",
   "metadata": {},
   "outputs": [],
   "source": [
    "t[::,0] = 1"
   ]
  },
  {
   "cell_type": "code",
   "execution_count": 56,
   "id": "2144afd4",
   "metadata": {},
   "outputs": [],
   "source": [
    "t[::,4] = 1"
   ]
  },
  {
   "cell_type": "code",
   "execution_count": 57,
   "id": "704d122a",
   "metadata": {},
   "outputs": [
    {
     "data": {
      "text/plain": [
       "array([[1., 1., 1., 1., 1.],\n",
       "       [1., 0., 0., 0., 1.],\n",
       "       [1., 0., 0., 0., 1.],\n",
       "       [1., 0., 0., 0., 1.],\n",
       "       [1., 1., 1., 1., 1.]])"
      ]
     },
     "execution_count": 57,
     "metadata": {},
     "output_type": "execute_result"
    }
   ],
   "source": [
    "t"
   ]
  },
  {
   "cell_type": "markdown",
   "id": "fa46156f",
   "metadata": {},
   "source": [
    "## Garbage Generation or Arbitrary genration or  (kinda) random generation"
   ]
  },
  {
   "cell_type": "markdown",
   "id": "6481f0d4",
   "metadata": {},
   "source": [
    "* The value shown which is shown in the below \"np.empty\" is already generated above, so it is just printing the already generated code."
   ]
  },
  {
   "cell_type": "code",
   "execution_count": 58,
   "id": "208419b7",
   "metadata": {},
   "outputs": [
    {
     "data": {
      "text/plain": [
       "array([[1., 1., 1., 1., 1.],\n",
       "       [1., 0., 0., 0., 1.],\n",
       "       [1., 0., 0., 0., 1.],\n",
       "       [1., 0., 0., 0., 1.],\n",
       "       [1., 1., 1., 1., 1.]])"
      ]
     },
     "execution_count": 58,
     "metadata": {},
     "output_type": "execute_result"
    }
   ],
   "source": [
    "np.empty((5,5))"
   ]
  },
  {
   "cell_type": "code",
   "execution_count": 59,
   "id": "50b3698e",
   "metadata": {},
   "outputs": [
    {
     "data": {
      "text/plain": [
       "array([[ 2.12199579e-314,  4.94065646e-324,  1.18831764e-312,\n",
       "         0.00000000e+000,  1.39067116e-309,  8.69169479e-311,\n",
       "         2.13684976e-311,  1.69760311e-313,  0.00000000e+000],\n",
       "       [ 0.00000000e+000,  0.00000000e+000,  0.00000000e+000,\n",
       "         0.00000000e+000,  1.55367112e+030, -3.72620332e-212,\n",
       "         1.00158201e-311,  4.94065646e-324,  0.00000000e+000],\n",
       "       [ 0.00000000e+000,  0.00000000e+000,  0.00000000e+000,\n",
       "         0.00000000e+000,  0.00000000e+000,  0.00000000e+000,\n",
       "         0.00000000e+000,  0.00000000e+000,  0.00000000e+000],\n",
       "       [ 0.00000000e+000,  0.00000000e+000,  0.00000000e+000,\n",
       "         5.01402526e+180,  1.30480151e-037,  7.40891732e+006,\n",
       "         7.12593715e+059,  9.41170396e+218,  1.05193219e+189],\n",
       "       [ 1.81531938e-306,  0.00000000e+000,  0.00000000e+000,\n",
       "         0.00000000e+000,  0.00000000e+000,  0.00000000e+000,\n",
       "         0.00000000e+000,  0.00000000e+000,  4.94065646e-324]])"
      ]
     },
     "execution_count": 59,
     "metadata": {},
     "output_type": "execute_result"
    }
   ],
   "source": [
    "np.empty((5,9))"
   ]
  },
  {
   "cell_type": "code",
   "execution_count": 60,
   "id": "fc7d32eb",
   "metadata": {},
   "outputs": [
    {
     "data": {
      "text/plain": [
       "array([[1.00304139e-311, 1.00299541e-311, 0.00000000e+000,\n",
       "        0.00000000e+000, 6.96320081e-077],\n",
       "       [1.15998412e-028, 4.31603868e-080, 1.94919985e-153,\n",
       "        1.35717430e+131, 7.06652016e-096],\n",
       "       [7.06652016e-096, 7.18988929e+140, 6.01347002e-154,\n",
       "        6.98345625e-077, 6.98345624e-077],\n",
       "       [6.98345624e-077, 6.01391519e-154, 7.06673073e-096,\n",
       "        7.06652016e-096, 7.06652016e-096],\n",
       "       [1.81148490e-152, 9.37041222e-076, 6.98345624e-077,\n",
       "        6.98345624e-077, 1.03080217e+136],\n",
       "       [6.01347002e-154, 7.06652016e-096, 7.06652016e-096,\n",
       "        7.18988929e+140, 4.99874708e+217],\n",
       "       [4.47303447e-143, 1.46899974e+179, 9.08367237e+223,\n",
       "        1.16466228e-028, 7.07980761e-308]])"
      ]
     },
     "execution_count": 60,
     "metadata": {},
     "output_type": "execute_result"
    }
   ],
   "source": [
    "np.empty((7,5))"
   ]
  },
  {
   "cell_type": "code",
   "execution_count": 61,
   "id": "98810b9f",
   "metadata": {},
   "outputs": [
    {
     "data": {
      "text/plain": [
       "array([[1.00299939e-311, 4.67296746e-307],\n",
       "       [1.69121096e-306, 0.00000000e+000]])"
      ]
     },
     "execution_count": 61,
     "metadata": {},
     "output_type": "execute_result"
    }
   ],
   "source": [
    "np.empty((2,2))"
   ]
  },
  {
   "cell_type": "markdown",
   "id": "982cd61a",
   "metadata": {},
   "source": [
    "## To check data type"
   ]
  },
  {
   "cell_type": "code",
   "execution_count": 62,
   "id": "1a42e282",
   "metadata": {},
   "outputs": [
    {
     "data": {
      "text/plain": [
       "dtype('int32')"
      ]
     },
     "execution_count": 62,
     "metadata": {},
     "output_type": "execute_result"
    }
   ],
   "source": [
    "x.dtype"
   ]
  },
  {
   "cell_type": "code",
   "execution_count": 63,
   "id": "8cf07e69",
   "metadata": {},
   "outputs": [
    {
     "data": {
      "text/plain": [
       "dtype('int32')"
      ]
     },
     "execution_count": 63,
     "metadata": {},
     "output_type": "execute_result"
    }
   ],
   "source": [
    "num3.dtype"
   ]
  },
  {
   "cell_type": "markdown",
   "id": "9f788acd",
   "metadata": {},
   "source": [
    "## Storing variables in Array"
   ]
  },
  {
   "cell_type": "markdown",
   "id": "4cd118bd",
   "metadata": {},
   "source": [
    "* Can store any data type but it should be one at a time!"
   ]
  },
  {
   "cell_type": "markdown",
   "id": "045702fe",
   "metadata": {},
   "source": [
    "e.g: \n",
    "  In an array of numbers you can not add any integers and vice versa."
   ]
  },
  {
   "cell_type": "code",
   "execution_count": 64,
   "id": "435356c4",
   "metadata": {},
   "outputs": [],
   "source": [
    "name = np.array(('Hassan','Subhan','Arsalan','Faizan','Rayyan','Affan'))"
   ]
  },
  {
   "cell_type": "code",
   "execution_count": 65,
   "id": "ff44623a",
   "metadata": {},
   "outputs": [
    {
     "data": {
      "text/plain": [
       "array(['Hassan', 'Subhan', 'Arsalan', 'Faizan', 'Rayyan', 'Affan'],\n",
       "      dtype='<U7')"
      ]
     },
     "execution_count": 65,
     "metadata": {},
     "output_type": "execute_result"
    }
   ],
   "source": [
    "name"
   ]
  },
  {
   "cell_type": "code",
   "execution_count": 66,
   "id": "6a1abc38",
   "metadata": {},
   "outputs": [
    {
     "data": {
      "text/plain": [
       "array([['Hassan', 'Subhan', 'Arsalan'],\n",
       "       ['Faizan', 'Rayyan', 'Affan']], dtype='<U7')"
      ]
     },
     "execution_count": 66,
     "metadata": {},
     "output_type": "execute_result"
    }
   ],
   "source": [
    "name.reshape(2,3)"
   ]
  },
  {
   "cell_type": "markdown",
   "id": "5eb68e8d",
   "metadata": {},
   "source": [
    "## Comparison"
   ]
  },
  {
   "cell_type": "markdown",
   "id": "3ce78683",
   "metadata": {},
   "source": [
    "* For True and False conditions"
   ]
  },
  {
   "cell_type": "code",
   "execution_count": 67,
   "id": "3e810ccb",
   "metadata": {},
   "outputs": [],
   "source": [
    "salary = np.array([37000,450000,98000,5000,60000])"
   ]
  },
  {
   "cell_type": "code",
   "execution_count": 68,
   "id": "f656cf6f",
   "metadata": {},
   "outputs": [
    {
     "data": {
      "text/plain": [
       "array([False,  True,  True, False,  True])"
      ]
     },
     "execution_count": 68,
     "metadata": {},
     "output_type": "execute_result"
    }
   ],
   "source": [
    "salary >  45000"
   ]
  },
  {
   "cell_type": "code",
   "execution_count": 69,
   "id": "70cf923a",
   "metadata": {},
   "outputs": [
    {
     "data": {
      "text/plain": [
       "array([False, False, False,  True, False])"
      ]
     },
     "execution_count": 69,
     "metadata": {},
     "output_type": "execute_result"
    }
   ],
   "source": [
    "salary < 30000"
   ]
  },
  {
   "cell_type": "markdown",
   "id": "dded3360",
   "metadata": {},
   "source": [
    "* To print the Value"
   ]
  },
  {
   "cell_type": "code",
   "execution_count": 70,
   "id": "b793b765",
   "metadata": {},
   "outputs": [
    {
     "data": {
      "text/plain": [
       "array([450000,  98000,  60000])"
      ]
     },
     "execution_count": 70,
     "metadata": {},
     "output_type": "execute_result"
    }
   ],
   "source": [
    "salary [salary >= 60000]"
   ]
  },
  {
   "cell_type": "markdown",
   "id": "2366d4c4",
   "metadata": {},
   "source": [
    "## Numpy Eliment-Wise Functions"
   ]
  },
  {
   "cell_type": "code",
   "execution_count": 71,
   "id": "9d3d5a5a",
   "metadata": {},
   "outputs": [],
   "source": [
    "val = np.array([46,24,76,35,46])"
   ]
  },
  {
   "cell_type": "markdown",
   "id": "bb33643a",
   "metadata": {},
   "source": [
    "* We can apply any \"Trignometric, Algebric ,etc Functions\" to every single element present in the array"
   ]
  },
  {
   "cell_type": "code",
   "execution_count": 72,
   "id": "39597359",
   "metadata": {},
   "outputs": [
    {
     "data": {
      "text/plain": [
       "array([-0.43217794,  0.42417901,  0.82433133, -0.90369221, -0.43217794])"
      ]
     },
     "execution_count": 72,
     "metadata": {},
     "output_type": "execute_result"
    }
   ],
   "source": [
    "np.cos(val)"
   ]
  },
  {
   "cell_type": "code",
   "execution_count": 73,
   "id": "ed1b29df",
   "metadata": {},
   "outputs": [
    {
     "data": {
      "text/plain": [
       "array([-2.08661353, -2.1348967 ,  0.68674769,  0.47381472, -2.08661353])"
      ]
     },
     "execution_count": 73,
     "metadata": {},
     "output_type": "execute_result"
    }
   ],
   "source": [
    "np.tan(val)"
   ]
  },
  {
   "cell_type": "code",
   "execution_count": 74,
   "id": "6a421736",
   "metadata": {},
   "outputs": [
    {
     "data": {
      "text/plain": [
       "array([ 0.90178835, -0.90557836,  0.56610764, -0.42818267,  0.90178835])"
      ]
     },
     "execution_count": 74,
     "metadata": {},
     "output_type": "execute_result"
    }
   ],
   "source": [
    "np.sin(val)"
   ]
  },
  {
   "cell_type": "code",
   "execution_count": 75,
   "id": "dffa29ee",
   "metadata": {},
   "outputs": [
    {
     "data": {
      "text/plain": [
       "array([6.78232998, 4.89897949, 8.71779789, 5.91607978, 6.78232998])"
      ]
     },
     "execution_count": 75,
     "metadata": {},
     "output_type": "execute_result"
    }
   ],
   "source": [
    "np.sqrt(val)"
   ]
  },
  {
   "cell_type": "markdown",
   "id": "d1ed3d7d",
   "metadata": {},
   "source": [
    "## Where Function\n",
    "#### It is just like \"If and Else\" function of \"Vanilla Python\""
   ]
  },
  {
   "cell_type": "code",
   "execution_count": 76,
   "id": "0d44acf6",
   "metadata": {},
   "outputs": [],
   "source": [
    "marks = np.array([22,64,35,89,91,44,30])"
   ]
  },
  {
   "cell_type": "markdown",
   "id": "6ba70b86",
   "metadata": {},
   "source": [
    "* The first condition \"Pass\" will only be execute if the condition is true, similarly the second condion \"Fail\" will be executeif the condition is false!"
   ]
  },
  {
   "cell_type": "code",
   "execution_count": 77,
   "id": "895a89c8",
   "metadata": {},
   "outputs": [
    {
     "data": {
      "text/plain": [
       "array(['Fail', 'Pass', 'Fail', 'Pass', 'Pass', 'Pass', 'Fail'],\n",
       "      dtype='<U4')"
      ]
     },
     "execution_count": 77,
     "metadata": {},
     "output_type": "execute_result"
    }
   ],
   "source": [
    "np.where(marks >= 40, \"Pass\", \"Fail\")"
   ]
  },
  {
   "cell_type": "code",
   "execution_count": 78,
   "id": "5735f927",
   "metadata": {},
   "outputs": [],
   "source": [
    "salary = np.array([30,35,40,45,50,55,60])"
   ]
  },
  {
   "cell_type": "code",
   "execution_count": 79,
   "id": "633075f4",
   "metadata": {},
   "outputs": [
    {
     "data": {
      "text/plain": [
       "array([33.  , 38.5 , 44.  , 47.25, 52.5 , 57.75, 63.  ])"
      ]
     },
     "execution_count": 79,
     "metadata": {},
     "output_type": "execute_result"
    }
   ],
   "source": [
    "np.where(salary < 45, salary*1.1, salary*1.05)"
   ]
  },
  {
   "cell_type": "markdown",
   "id": "2888c451",
   "metadata": {},
   "source": [
    "## Transpose\n",
    "#### Row became column and column became row\n",
    "1. Can use it by \" .T \"\n",
    "2. Can also use it by \"transpose()\""
   ]
  },
  {
   "cell_type": "code",
   "execution_count": 80,
   "id": "450593bc",
   "metadata": {},
   "outputs": [],
   "source": [
    "matrix = np.arange(1,101).reshape(10,10)"
   ]
  },
  {
   "cell_type": "code",
   "execution_count": 81,
   "id": "66bead52",
   "metadata": {},
   "outputs": [
    {
     "data": {
      "text/plain": [
       "array([[  1,   2,   3,   4,   5,   6,   7,   8,   9,  10],\n",
       "       [ 11,  12,  13,  14,  15,  16,  17,  18,  19,  20],\n",
       "       [ 21,  22,  23,  24,  25,  26,  27,  28,  29,  30],\n",
       "       [ 31,  32,  33,  34,  35,  36,  37,  38,  39,  40],\n",
       "       [ 41,  42,  43,  44,  45,  46,  47,  48,  49,  50],\n",
       "       [ 51,  52,  53,  54,  55,  56,  57,  58,  59,  60],\n",
       "       [ 61,  62,  63,  64,  65,  66,  67,  68,  69,  70],\n",
       "       [ 71,  72,  73,  74,  75,  76,  77,  78,  79,  80],\n",
       "       [ 81,  82,  83,  84,  85,  86,  87,  88,  89,  90],\n",
       "       [ 91,  92,  93,  94,  95,  96,  97,  98,  99, 100]])"
      ]
     },
     "execution_count": 81,
     "metadata": {},
     "output_type": "execute_result"
    }
   ],
   "source": [
    "matrix"
   ]
  },
  {
   "cell_type": "code",
   "execution_count": 82,
   "id": "d616fe2c",
   "metadata": {},
   "outputs": [
    {
     "data": {
      "text/plain": [
       "array([[  1,  11,  21,  31,  41,  51,  61,  71,  81,  91],\n",
       "       [  2,  12,  22,  32,  42,  52,  62,  72,  82,  92],\n",
       "       [  3,  13,  23,  33,  43,  53,  63,  73,  83,  93],\n",
       "       [  4,  14,  24,  34,  44,  54,  64,  74,  84,  94],\n",
       "       [  5,  15,  25,  35,  45,  55,  65,  75,  85,  95],\n",
       "       [  6,  16,  26,  36,  46,  56,  66,  76,  86,  96],\n",
       "       [  7,  17,  27,  37,  47,  57,  67,  77,  87,  97],\n",
       "       [  8,  18,  28,  38,  48,  58,  68,  78,  88,  98],\n",
       "       [  9,  19,  29,  39,  49,  59,  69,  79,  89,  99],\n",
       "       [ 10,  20,  30,  40,  50,  60,  70,  80,  90, 100]])"
      ]
     },
     "execution_count": 82,
     "metadata": {},
     "output_type": "execute_result"
    }
   ],
   "source": [
    "matrix.T"
   ]
  },
  {
   "cell_type": "code",
   "execution_count": 83,
   "id": "5e9bb935",
   "metadata": {},
   "outputs": [
    {
     "data": {
      "text/plain": [
       "array([[  1,  11,  21,  31,  41,  51,  61,  71,  81,  91],\n",
       "       [  2,  12,  22,  32,  42,  52,  62,  72,  82,  92],\n",
       "       [  3,  13,  23,  33,  43,  53,  63,  73,  83,  93],\n",
       "       [  4,  14,  24,  34,  44,  54,  64,  74,  84,  94],\n",
       "       [  5,  15,  25,  35,  45,  55,  65,  75,  85,  95],\n",
       "       [  6,  16,  26,  36,  46,  56,  66,  76,  86,  96],\n",
       "       [  7,  17,  27,  37,  47,  57,  67,  77,  87,  97],\n",
       "       [  8,  18,  28,  38,  48,  58,  68,  78,  88,  98],\n",
       "       [  9,  19,  29,  39,  49,  59,  69,  79,  89,  99],\n",
       "       [ 10,  20,  30,  40,  50,  60,  70,  80,  90, 100]])"
      ]
     },
     "execution_count": 83,
     "metadata": {},
     "output_type": "execute_result"
    }
   ],
   "source": [
    "matrix.transpose()"
   ]
  },
  {
   "cell_type": "markdown",
   "id": "f064558e",
   "metadata": {},
   "source": [
    "## Mean Function"
   ]
  },
  {
   "cell_type": "markdown",
   "id": "43c12be1",
   "metadata": {},
   "source": [
    "* It is sue to calculate mean of the elements in array"
   ]
  },
  {
   "cell_type": "code",
   "execution_count": 84,
   "id": "dbc6c214",
   "metadata": {},
   "outputs": [],
   "source": [
    "arr = np.array([5,6,4,8,2,3,7])"
   ]
  },
  {
   "cell_type": "code",
   "execution_count": 85,
   "id": "59e9ffb9",
   "metadata": {},
   "outputs": [
    {
     "data": {
      "text/plain": [
       "5.0"
      ]
     },
     "execution_count": 85,
     "metadata": {},
     "output_type": "execute_result"
    }
   ],
   "source": [
    "arr.mean()"
   ]
  },
  {
   "cell_type": "code",
   "execution_count": 86,
   "id": "f5955c92",
   "metadata": {},
   "outputs": [
    {
     "data": {
      "text/plain": [
       "50.5"
      ]
     },
     "execution_count": 86,
     "metadata": {},
     "output_type": "execute_result"
    }
   ],
   "source": [
    "matrix.mean()"
   ]
  },
  {
   "cell_type": "markdown",
   "id": "95ae5a5d",
   "metadata": {},
   "source": [
    "## Cumsum Function"
   ]
  },
  {
   "cell_type": "markdown",
   "id": "0c2a1271",
   "metadata": {},
   "source": [
    "* In this function all the elements in array will make sum with each other in sequence, means 1st num will add with 2nd num, 2nd num will then bw added in 3rd num etc."
   ]
  },
  {
   "cell_type": "code",
   "execution_count": 87,
   "id": "e1ba0325",
   "metadata": {},
   "outputs": [
    {
     "data": {
      "text/plain": [
       "array([ 5, 11, 15, 23, 25, 28, 35], dtype=int32)"
      ]
     },
     "execution_count": 87,
     "metadata": {},
     "output_type": "execute_result"
    }
   ],
   "source": [
    "arr.cumsum()"
   ]
  },
  {
   "cell_type": "markdown",
   "id": "20322503",
   "metadata": {},
   "source": [
    "## Cumprod Function"
   ]
  },
  {
   "cell_type": "markdown",
   "id": "d648416d",
   "metadata": {},
   "source": [
    "* It is same as \"cumsum\", the difference is that it will multiply instead of adding"
   ]
  },
  {
   "cell_type": "code",
   "execution_count": 88,
   "id": "47ba6afe",
   "metadata": {},
   "outputs": [
    {
     "data": {
      "text/plain": [
       "array([    5,    30,   120,   960,  1920,  5760, 40320], dtype=int32)"
      ]
     },
     "execution_count": 88,
     "metadata": {},
     "output_type": "execute_result"
    }
   ],
   "source": [
    "arr.cumprod()"
   ]
  },
  {
   "cell_type": "markdown",
   "id": "f46eb787",
   "metadata": {},
   "source": [
    "## Method for \"Boolean Array\"\n",
    "* Remember that methods always have \"()\" in there end!"
   ]
  },
  {
   "cell_type": "code",
   "execution_count": 89,
   "id": "d46c7bf2",
   "metadata": {},
   "outputs": [],
   "source": [
    "gender = np.array(['Male','Female','Male','Male','Female','Male'])"
   ]
  },
  {
   "cell_type": "code",
   "execution_count": 90,
   "id": "c928f72f",
   "metadata": {},
   "outputs": [
    {
     "data": {
      "text/plain": [
       "array(['Male', 'Male', 'Male', 'Male'], dtype='<U6')"
      ]
     },
     "execution_count": 90,
     "metadata": {},
     "output_type": "execute_result"
    }
   ],
   "source": [
    "gender[gender == 'Male']"
   ]
  },
  {
   "cell_type": "code",
   "execution_count": 91,
   "id": "ab451123",
   "metadata": {},
   "outputs": [
    {
     "data": {
      "text/plain": [
       "array([ True, False,  True,  True, False,  True])"
      ]
     },
     "execution_count": 91,
     "metadata": {},
     "output_type": "execute_result"
    }
   ],
   "source": [
    "gender == 'Male'"
   ]
  },
  {
   "cell_type": "code",
   "execution_count": 92,
   "id": "070423e6",
   "metadata": {},
   "outputs": [
    {
     "data": {
      "text/plain": [
       "array([False,  True, False, False,  True, False])"
      ]
     },
     "execution_count": 92,
     "metadata": {},
     "output_type": "execute_result"
    }
   ],
   "source": [
    "gender == 'Female'"
   ]
  },
  {
   "cell_type": "markdown",
   "id": "2a330907",
   "metadata": {},
   "source": [
    "* The value of True is \"1\" and the value of False is \"2\""
   ]
  },
  {
   "cell_type": "markdown",
   "id": "b97ad907",
   "metadata": {},
   "source": [
    "Which Means if we want to count the number of \"Trues\" we just have to add it"
   ]
  },
  {
   "cell_type": "code",
   "execution_count": 93,
   "id": "28b910e1",
   "metadata": {},
   "outputs": [],
   "source": [
    "a = gender == 'Male'"
   ]
  },
  {
   "cell_type": "code",
   "execution_count": 94,
   "id": "03a1951c",
   "metadata": {},
   "outputs": [
    {
     "data": {
      "text/plain": [
       "4"
      ]
     },
     "execution_count": 94,
     "metadata": {},
     "output_type": "execute_result"
    }
   ],
   "source": [
    "a.sum()"
   ]
  },
  {
   "cell_type": "code",
   "execution_count": 95,
   "id": "394cbe58",
   "metadata": {},
   "outputs": [],
   "source": [
    "b = gender == 'Female'"
   ]
  },
  {
   "cell_type": "code",
   "execution_count": 96,
   "id": "fba2c4f8",
   "metadata": {},
   "outputs": [
    {
     "data": {
      "text/plain": [
       "2"
      ]
     },
     "execution_count": 96,
     "metadata": {},
     "output_type": "execute_result"
    }
   ],
   "source": [
    "b.sum()"
   ]
  },
  {
   "cell_type": "markdown",
   "id": "daa42ed0",
   "metadata": {},
   "source": [
    "#### To check that is there any value true"
   ]
  },
  {
   "cell_type": "code",
   "execution_count": 97,
   "id": "dad71d80",
   "metadata": {},
   "outputs": [
    {
     "data": {
      "text/plain": [
       "array([ True, False,  True,  True, False,  True])"
      ]
     },
     "execution_count": 97,
     "metadata": {},
     "output_type": "execute_result"
    }
   ],
   "source": [
    "a"
   ]
  },
  {
   "cell_type": "markdown",
   "id": "0bba6574",
   "metadata": {},
   "source": [
    "* any() is an existential quantifier!"
   ]
  },
  {
   "cell_type": "code",
   "execution_count": 98,
   "id": "1c13584e",
   "metadata": {},
   "outputs": [
    {
     "data": {
      "text/plain": [
       "True"
      ]
     },
     "execution_count": 98,
     "metadata": {},
     "output_type": "execute_result"
    }
   ],
   "source": [
    "a.any()"
   ]
  },
  {
   "cell_type": "markdown",
   "id": "bfa95068",
   "metadata": {},
   "source": [
    "#### To check if all the conditions are true"
   ]
  },
  {
   "cell_type": "code",
   "execution_count": 99,
   "id": "d4c5d7a2",
   "metadata": {},
   "outputs": [
    {
     "data": {
      "text/plain": [
       "False"
      ]
     },
     "execution_count": 99,
     "metadata": {},
     "output_type": "execute_result"
    }
   ],
   "source": [
    "a.all()"
   ]
  },
  {
   "cell_type": "markdown",
   "id": "581b9ef8",
   "metadata": {},
   "source": [
    "* This \"False\" doesn't means that all the element in the array is false, instead it is telling that all of them are not true, weather only one element is false or whole array ia false it will always give the answer false until, the whole array is true"
   ]
  },
  {
   "cell_type": "code",
   "execution_count": 100,
   "id": "733351d3",
   "metadata": {},
   "outputs": [
    {
     "data": {
      "text/plain": [
       "False"
      ]
     },
     "execution_count": 100,
     "metadata": {},
     "output_type": "execute_result"
    }
   ],
   "source": [
    "b.all()"
   ]
  },
  {
   "cell_type": "code",
   "execution_count": 101,
   "id": "a1b814ab",
   "metadata": {},
   "outputs": [],
   "source": [
    " n = np.array([22,34,18,6,98])"
   ]
  },
  {
   "cell_type": "markdown",
   "id": "ba87a888",
   "metadata": {},
   "source": [
    "* It is telling that if all the elements are even numbers (divisible by \"2\") then the condition is true"
   ]
  },
  {
   "cell_type": "code",
   "execution_count": 102,
   "id": "f7fa5474",
   "metadata": {},
   "outputs": [],
   "source": [
    "x = n%2 == 0"
   ]
  },
  {
   "cell_type": "markdown",
   "id": "6582bba7",
   "metadata": {},
   "source": [
    "* all() is a universal quantifier"
   ]
  },
  {
   "cell_type": "code",
   "execution_count": 103,
   "id": "7ef3ff8a",
   "metadata": {},
   "outputs": [
    {
     "data": {
      "text/plain": [
       "True"
      ]
     },
     "execution_count": 103,
     "metadata": {},
     "output_type": "execute_result"
    }
   ],
   "source": [
    "x.all()"
   ]
  },
  {
   "cell_type": "markdown",
   "id": "46b1707d",
   "metadata": {},
   "source": [
    "#### To arrange or sort array"
   ]
  },
  {
   "cell_type": "code",
   "execution_count": 104,
   "id": "a340e8a0",
   "metadata": {},
   "outputs": [
    {
     "data": {
      "text/plain": [
       "array([22, 34, 18,  6, 98])"
      ]
     },
     "execution_count": 104,
     "metadata": {},
     "output_type": "execute_result"
    }
   ],
   "source": [
    "n"
   ]
  },
  {
   "cell_type": "code",
   "execution_count": 105,
   "id": "f9bab221",
   "metadata": {},
   "outputs": [],
   "source": [
    "n.sort()"
   ]
  },
  {
   "cell_type": "code",
   "execution_count": 106,
   "id": "cf156256",
   "metadata": {},
   "outputs": [
    {
     "data": {
      "text/plain": [
       "array([ 6, 18, 22, 34, 98])"
      ]
     },
     "execution_count": 106,
     "metadata": {},
     "output_type": "execute_result"
    }
   ],
   "source": [
    "n"
   ]
  },
  {
   "cell_type": "markdown",
   "id": "724d2b60",
   "metadata": {},
   "source": [
    "* Can also change its order by"
   ]
  },
  {
   "cell_type": "code",
   "execution_count": 107,
   "id": "7310e152",
   "metadata": {},
   "outputs": [
    {
     "data": {
      "text/plain": [
       "array([98, 34, 22, 18,  6])"
      ]
     },
     "execution_count": 107,
     "metadata": {},
     "output_type": "execute_result"
    }
   ],
   "source": [
    "n[::-1]"
   ]
  },
  {
   "cell_type": "markdown",
   "id": "3aa2cebf",
   "metadata": {},
   "source": [
    "#### For unique conditions"
   ]
  },
  {
   "cell_type": "markdown",
   "id": "53e2509d",
   "metadata": {},
   "source": [
    "* If there is any an element multiple times in a  singular array \"np.unique()\" is use to print the array in such way that all the element will print one time only!"
   ]
  },
  {
   "cell_type": "code",
   "execution_count": 108,
   "id": "58fefeba",
   "metadata": {},
   "outputs": [
    {
     "data": {
      "text/plain": [
       "array([2, 3, 4, 3, 5, 6, 2, 6, 7, 5])"
      ]
     },
     "execution_count": 108,
     "metadata": {},
     "output_type": "execute_result"
    }
   ],
   "source": [
    "num = np.array([2,3,4,3,5,6,2,6,7,5])\n",
    "num"
   ]
  },
  {
   "cell_type": "code",
   "execution_count": 109,
   "id": "e12219a2",
   "metadata": {},
   "outputs": [
    {
     "data": {
      "text/plain": [
       "array([2, 3, 4, 5, 6, 7])"
      ]
     },
     "execution_count": 109,
     "metadata": {},
     "output_type": "execute_result"
    }
   ],
   "source": [
    "np.unique(num)"
   ]
  },
  {
   "cell_type": "markdown",
   "id": "315e01d2",
   "metadata": {},
   "source": [
    "## Saving an array"
   ]
  },
  {
   "cell_type": "code",
   "execution_count": 110,
   "id": "076debe8",
   "metadata": {},
   "outputs": [],
   "source": [
    "u = np.unique(num)"
   ]
  },
  {
   "cell_type": "markdown",
   "id": "daa29d46",
   "metadata": {},
   "source": [
    "* 'Data' is a the file name (it can be anything) and \"u\" is the array name "
   ]
  },
  {
   "cell_type": "code",
   "execution_count": 111,
   "id": "02b59f5f",
   "metadata": {},
   "outputs": [],
   "source": [
    "np.save('Data',a)"
   ]
  },
  {
   "cell_type": "markdown",
   "id": "cff19169",
   "metadata": {},
   "source": [
    "## Loading the saved array"
   ]
  },
  {
   "cell_type": "code",
   "execution_count": 112,
   "id": "63918408",
   "metadata": {},
   "outputs": [],
   "source": [
    "load_array = np.load('Data.npy')"
   ]
  },
  {
   "cell_type": "code",
   "execution_count": 113,
   "id": "8ec32d97",
   "metadata": {},
   "outputs": [
    {
     "data": {
      "text/plain": [
       "array([ True, False,  True,  True, False,  True])"
      ]
     },
     "execution_count": 113,
     "metadata": {},
     "output_type": "execute_result"
    }
   ],
   "source": [
    "load_array"
   ]
  },
  {
   "cell_type": "markdown",
   "id": "e0a9efbe",
   "metadata": {},
   "source": [
    "## Saving multiple arrays in asingle file"
   ]
  },
  {
   "cell_type": "code",
   "execution_count": 114,
   "id": "17c6c7ef",
   "metadata": {},
   "outputs": [],
   "source": [
    "students = np.array(['Hashim', 'Ikram', 'Ali', 'Nizam'])\n",
    "marks = np.array([60,70,77,80])"
   ]
  },
  {
   "cell_type": "code",
   "execution_count": 115,
   "id": "65239c7d",
   "metadata": {},
   "outputs": [],
   "source": [
    "age = np.array([18,18,20,18])"
   ]
  },
  {
   "cell_type": "markdown",
   "id": "9f32a021",
   "metadata": {},
   "source": [
    "* 'arrays' is a the file name (it can be anything) and the arrays which we are goingto save will always have to be in keyword arguments (and also it can be anything). We can store n numbers of arrays using the following method"
   ]
  },
  {
   "cell_type": "code",
   "execution_count": 116,
   "id": "c739087f",
   "metadata": {},
   "outputs": [],
   "source": [
    "np.savez('arrayz',a1=students,a2=marks,a3=age)"
   ]
  },
  {
   "cell_type": "markdown",
   "id": "cf7f1388",
   "metadata": {},
   "source": [
    "## Loading the saved arrays"
   ]
  },
  {
   "cell_type": "markdown",
   "id": "9030bb06",
   "metadata": {},
   "source": [
    "* The load result of saving multiple array will be in the form of dictionary"
   ]
  },
  {
   "cell_type": "code",
   "execution_count": 117,
   "id": "3614d776",
   "metadata": {},
   "outputs": [],
   "source": [
    "result = np.load('arrayz.npz')"
   ]
  },
  {
   "cell_type": "code",
   "execution_count": 118,
   "id": "941018c3",
   "metadata": {},
   "outputs": [
    {
     "data": {
      "text/plain": [
       "array(['Hashim', 'Ikram', 'Ali', 'Nizam'], dtype='<U6')"
      ]
     },
     "execution_count": 118,
     "metadata": {},
     "output_type": "execute_result"
    }
   ],
   "source": [
    "result['a1']"
   ]
  },
  {
   "cell_type": "code",
   "execution_count": 119,
   "id": "aaaa1a5d",
   "metadata": {},
   "outputs": [
    {
     "data": {
      "text/plain": [
       "array([60, 70, 77, 80])"
      ]
     },
     "execution_count": 119,
     "metadata": {},
     "output_type": "execute_result"
    }
   ],
   "source": [
    "result['a2']"
   ]
  },
  {
   "cell_type": "code",
   "execution_count": 120,
   "id": "84c54bdd",
   "metadata": {},
   "outputs": [
    {
     "data": {
      "text/plain": [
       "array([18, 18, 20, 18])"
      ]
     },
     "execution_count": 120,
     "metadata": {},
     "output_type": "execute_result"
    }
   ],
   "source": [
    "result['a3']"
   ]
  },
  {
   "cell_type": "markdown",
   "id": "61bd847b",
   "metadata": {},
   "source": [
    "## Linear Algebra Functions"
   ]
  },
  {
   "cell_type": "code",
   "execution_count": 121,
   "id": "f7df960b",
   "metadata": {},
   "outputs": [],
   "source": [
    "arr = np.arange(16).reshape(4,4)"
   ]
  },
  {
   "cell_type": "code",
   "execution_count": 122,
   "id": "534c176d",
   "metadata": {},
   "outputs": [
    {
     "data": {
      "text/plain": [
       "array([[ 0,  1,  2,  3],\n",
       "       [ 4,  5,  6,  7],\n",
       "       [ 8,  9, 10, 11],\n",
       "       [12, 13, 14, 15]])"
      ]
     },
     "execution_count": 122,
     "metadata": {},
     "output_type": "execute_result"
    }
   ],
   "source": [
    "arr"
   ]
  },
  {
   "cell_type": "markdown",
   "id": "36e78a58",
   "metadata": {},
   "source": [
    "#### Different Linear Algebraic Functions"
   ]
  },
  {
   "cell_type": "markdown",
   "id": "7625ad4d",
   "metadata": {},
   "source": [
    "* To get diagnal elements out of matrices"
   ]
  },
  {
   "cell_type": "code",
   "execution_count": 123,
   "id": "13610aca",
   "metadata": {},
   "outputs": [
    {
     "data": {
      "text/plain": [
       "array([ 0,  5, 10, 15])"
      ]
     },
     "execution_count": 123,
     "metadata": {},
     "output_type": "execute_result"
    }
   ],
   "source": [
    "arr.diagonal()"
   ]
  },
  {
   "cell_type": "markdown",
   "id": "e3858714",
   "metadata": {},
   "source": [
    "* trace() is the sum of diagonal elements of matrices"
   ]
  },
  {
   "cell_type": "code",
   "execution_count": 124,
   "id": "4e9ba79d",
   "metadata": {},
   "outputs": [
    {
     "data": {
      "text/plain": [
       "30"
      ]
     },
     "execution_count": 124,
     "metadata": {},
     "output_type": "execute_result"
    }
   ],
   "source": [
    "arr.trace()"
   ]
  },
  {
   "cell_type": "markdown",
   "id": "104f669d",
   "metadata": {},
   "source": [
    "* dot() is use to multiply a a number or a matrix to another matrix"
   ]
  },
  {
   "cell_type": "code",
   "execution_count": 125,
   "id": "bcf28685",
   "metadata": {},
   "outputs": [
    {
     "data": {
      "text/plain": [
       "array([[ 0,  5, 10, 15],\n",
       "       [20, 25, 30, 35],\n",
       "       [40, 45, 50, 55],\n",
       "       [60, 65, 70, 75]])"
      ]
     },
     "execution_count": 125,
     "metadata": {},
     "output_type": "execute_result"
    }
   ],
   "source": [
    "arr.dot(5)"
   ]
  },
  {
   "cell_type": "code",
   "execution_count": 126,
   "id": "16dd8dc1",
   "metadata": {},
   "outputs": [],
   "source": [
    "arr1 = np.arange(40,56).reshape(4,4)"
   ]
  },
  {
   "cell_type": "code",
   "execution_count": 127,
   "id": "fb77b2df",
   "metadata": {},
   "outputs": [
    {
     "data": {
      "text/plain": [
       "array([[40, 41, 42, 43],\n",
       "       [44, 45, 46, 47],\n",
       "       [48, 49, 50, 51],\n",
       "       [52, 53, 54, 55]])"
      ]
     },
     "execution_count": 127,
     "metadata": {},
     "output_type": "execute_result"
    }
   ],
   "source": [
    "arr1"
   ]
  },
  {
   "cell_type": "code",
   "execution_count": 128,
   "id": "a33734d4",
   "metadata": {},
   "outputs": [
    {
     "data": {
      "text/plain": [
       "array([[ 296,  302,  308,  314],\n",
       "       [1032, 1054, 1076, 1098],\n",
       "       [1768, 1806, 1844, 1882],\n",
       "       [2504, 2558, 2612, 2666]])"
      ]
     },
     "execution_count": 128,
     "metadata": {},
     "output_type": "execute_result"
    }
   ],
   "source": [
    "arr.dot(arr1)"
   ]
  },
  {
   "cell_type": "markdown",
   "id": "4ffc0fc0",
   "metadata": {},
   "source": [
    "#### Some of these Functions requires a specific library of \"Numpy\""
   ]
  },
  {
   "cell_type": "markdown",
   "id": "0d3cf370",
   "metadata": {},
   "source": [
    "There are two different methods to import\n",
    "1. import numpy.linalg as lg\n",
    "2. from numpy import linalg as lg"
   ]
  },
  {
   "cell_type": "code",
   "execution_count": 129,
   "id": "475007e4",
   "metadata": {},
   "outputs": [],
   "source": [
    "from numpy import linalg as lg"
   ]
  },
  {
   "cell_type": "code",
   "execution_count": 130,
   "id": "ac0c13cf",
   "metadata": {},
   "outputs": [
    {
     "data": {
      "text/plain": [
       "0.0"
      ]
     },
     "execution_count": 130,
     "metadata": {},
     "output_type": "execute_result"
    }
   ],
   "source": [
    "lg.det(arr)"
   ]
  },
  {
   "cell_type": "code",
   "execution_count": 131,
   "id": "3a5dc80e",
   "metadata": {},
   "outputs": [
    {
     "data": {
      "text/plain": [
       "2.0115953083135402e-28"
      ]
     },
     "execution_count": 131,
     "metadata": {},
     "output_type": "execute_result"
    }
   ],
   "source": [
    "lg.det(arr1)"
   ]
  },
  {
   "cell_type": "markdown",
   "id": "4fc457c7",
   "metadata": {},
   "source": [
    "* For eigenvalues"
   ]
  },
  {
   "cell_type": "code",
   "execution_count": 132,
   "id": "9248d5ff",
   "metadata": {},
   "outputs": [
    {
     "data": {
      "text/plain": [
       "(array([ 1.90420124e+02+0.00000000e+00j, -4.20123664e-01+0.00000000e+00j,\n",
       "        -1.45875422e-15+7.13162765e-15j, -1.45875422e-15-7.13162765e-15j]),\n",
       " array([[-0.4350659 +0.j        ,  0.68237504+0.j        ,\n",
       "         -0.13384489+0.27734221j, -0.13384489-0.27734221j],\n",
       "        [-0.4768941 +0.j        ,  0.23528473+0.j        ,\n",
       "         -0.15597242-0.41601331j, -0.15597242+0.41601331j],\n",
       "        [-0.5187223 +0.j        , -0.21180558+0.j        ,\n",
       "          0.71347952+0.j        ,  0.71347952-0.j        ],\n",
       "        [-0.5605505 +0.j        , -0.65889589+0.j        ,\n",
       "         -0.42366221+0.1386711j , -0.42366221-0.1386711j ]]))"
      ]
     },
     "execution_count": 132,
     "metadata": {},
     "output_type": "execute_result"
    }
   ],
   "source": [
    "lg.eig(arr1)"
   ]
  },
  {
   "cell_type": "markdown",
   "id": "425ec079",
   "metadata": {},
   "source": [
    "* For Inverse"
   ]
  },
  {
   "cell_type": "code",
   "execution_count": 133,
   "id": "cdec6d49",
   "metadata": {},
   "outputs": [
    {
     "data": {
      "text/plain": [
       "array([[-2.82578800e+14,  4.22212465e+14,  3.31147031e+12,\n",
       "        -1.42945135e+14],\n",
       "       [ 4.23868200e+14, -5.62949953e+14, -1.45704694e+14,\n",
       "         2.84786447e+14],\n",
       "       [ 0.00000000e+00, -1.40737488e+14,  2.81474977e+14,\n",
       "        -1.40737488e+14],\n",
       "       [-1.41289400e+14,  2.81474977e+14, -1.39081753e+14,\n",
       "        -1.10382344e+12]])"
      ]
     },
     "execution_count": 133,
     "metadata": {},
     "output_type": "execute_result"
    }
   ],
   "source": [
    "lg.inv(arr1)"
   ]
  },
  {
   "cell_type": "markdown",
   "id": "c0a86b3e",
   "metadata": {},
   "source": [
    "* For qr"
   ]
  },
  {
   "cell_type": "markdown",
   "id": "14bdc3ab",
   "metadata": {},
   "source": [
    "qr decompose a single matrix into two matrices"
   ]
  },
  {
   "cell_type": "code",
   "execution_count": 134,
   "id": "dc7a8e67",
   "metadata": {},
   "outputs": [
    {
     "data": {
      "text/plain": [
       "(array([[-0.43274232, -0.71605452,  0.21170681, -0.50515366],\n",
       "        [-0.47601655, -0.27093955,  0.09424356,  0.83133516],\n",
       "        [-0.51929079,  0.17417542, -0.82360756, -0.14720933],\n",
       "        [-0.56256502,  0.6192904 ,  0.51765719, -0.17897217]]),\n",
       " array([[-9.24337601e+01, -9.44243747e+01, -9.64149894e+01,\n",
       "         -9.84056041e+01],\n",
       "        [ 0.00000000e+00, -1.93528250e-01, -3.87056500e-01,\n",
       "         -5.80584750e-01],\n",
       "        [ 0.00000000e+00,  0.00000000e+00, -9.50850281e-15,\n",
       "         -1.59654957e-14],\n",
       "        [ 0.00000000e+00,  0.00000000e+00,  0.00000000e+00,\n",
       "          7.91655513e-15]]))"
      ]
     },
     "execution_count": 134,
     "metadata": {},
     "output_type": "execute_result"
    }
   ],
   "source": [
    "lg.qr(arr1)"
   ]
  },
  {
   "cell_type": "markdown",
   "id": "ec7996b9",
   "metadata": {},
   "source": [
    "* Singular value decomposition"
   ]
  },
  {
   "cell_type": "code",
   "execution_count": 135,
   "id": "7d9f0a92",
   "metadata": {},
   "outputs": [
    {
     "data": {
      "text/plain": [
       "(array([[-0.43495535, -0.71471242,  0.21784798, -0.50253583],\n",
       "        [-0.47685242, -0.26946571,  0.08410412,  0.83242207],\n",
       "        [-0.51874949,  0.175781  , -0.82175217, -0.15723665],\n",
       "        [-0.56064657,  0.62102772,  0.51980008, -0.17264959]]),\n",
       " array([1.90892180e+02, 4.19084742e-01, 4.22271458e-15, 7.22000242e-18]),\n",
       " array([[-0.48421741, -0.49464845, -0.50507949, -0.51551053],\n",
       "        [ 0.68230015,  0.23520822, -0.21188371, -0.65897564],\n",
       "        [-0.22222205,  0.66943393, -0.67220172,  0.22498983],\n",
       "        [ 0.50061698, -0.50185477, -0.4981414 ,  0.49937919]]))"
      ]
     },
     "execution_count": 135,
     "metadata": {},
     "output_type": "execute_result"
    }
   ],
   "source": [
    "lg.svd(arr1)"
   ]
  },
  {
   "cell_type": "markdown",
   "id": "8e74b115",
   "metadata": {},
   "source": [
    "## For Random Numbers Generation\n",
    "* We have to import \"random library\""
   ]
  },
  {
   "cell_type": "code",
   "execution_count": 136,
   "id": "c58315c6",
   "metadata": {},
   "outputs": [],
   "source": [
    "from numpy import random as r"
   ]
  },
  {
   "cell_type": "markdown",
   "id": "ee84cb8d",
   "metadata": {},
   "source": [
    "#### Normal Distribution\n",
    "* \"3,4\" are normal distribution and \"3,3\" is size of matrices\n",
    "* Normally we generate code using \"Normal Distributions\""
   ]
  },
  {
   "cell_type": "code",
   "execution_count": 137,
   "id": "221f1bc9",
   "metadata": {},
   "outputs": [
    {
     "data": {
      "text/plain": [
       "array([[-1.31175329,  0.44052761,  5.80641395],\n",
       "       [ 0.28866088,  2.57705289, -5.71319908],\n",
       "       [ 4.52354249,  1.65656437,  9.03371376]])"
      ]
     },
     "execution_count": 137,
     "metadata": {},
     "output_type": "execute_result"
    }
   ],
   "source": [
    "r.normal(3,4,(3,3))"
   ]
  },
  {
   "cell_type": "markdown",
   "id": "12060570",
   "metadata": {},
   "source": [
    "#### Gamma Distribution"
   ]
  },
  {
   "cell_type": "code",
   "execution_count": 138,
   "id": "e2e76f5b",
   "metadata": {},
   "outputs": [
    {
     "data": {
      "text/plain": [
       "array([[17.53270007,  6.79383579, 17.35428918,  4.98116301],\n",
       "       [27.85218608, 13.78007581, 20.52823496, 15.58715682],\n",
       "       [14.98565928, 18.95683009,  8.77466624, 10.19549978],\n",
       "       [12.92426828,  7.33726631,  9.04967235,  7.85940634]])"
      ]
     },
     "execution_count": 138,
     "metadata": {},
     "output_type": "execute_result"
    }
   ],
   "source": [
    "r.gamma(4,4,(4,4))"
   ]
  },
  {
   "cell_type": "markdown",
   "id": "09f24405",
   "metadata": {},
   "source": [
    "#### Uniform Distribution"
   ]
  },
  {
   "cell_type": "code",
   "execution_count": 139,
   "id": "6559d2e6",
   "metadata": {},
   "outputs": [
    {
     "data": {
      "text/plain": [
       "array([[3., 3., 3., 3., 3.],\n",
       "       [3., 3., 3., 3., 3.],\n",
       "       [3., 3., 3., 3., 3.],\n",
       "       [3., 3., 3., 3., 3.],\n",
       "       [3., 3., 3., 3., 3.]])"
      ]
     },
     "execution_count": 139,
     "metadata": {},
     "output_type": "execute_result"
    }
   ],
   "source": [
    "r.uniform(3,3,(5,5))"
   ]
  },
  {
   "cell_type": "markdown",
   "id": "ecfef326",
   "metadata": {},
   "source": [
    "## Seed\n",
    "##### Seed is very important in random number generation in \"AI Machine Learning\"\n",
    "* If a person is working on a seed which is for example set on \"5\"(can be any digit) and generating random codes, since the code is random it is nearly imposible for me to get random codes as same as him, until I set my seed also on \"5\" in this way we all get same results of random generation if we are all using the same seed!"
   ]
  },
  {
   "cell_type": "markdown",
   "id": "cb9f9634",
   "metadata": {},
   "source": [
    "* For example:\n",
    "1. If I generate random code not using a set seed the generation will be different all the time"
   ]
  },
  {
   "cell_type": "code",
   "execution_count": 140,
   "id": "5c7ccaba",
   "metadata": {},
   "outputs": [
    {
     "data": {
      "text/plain": [
       "0.8631091589020353"
      ]
     },
     "execution_count": 140,
     "metadata": {},
     "output_type": "execute_result"
    }
   ],
   "source": [
    "r.rand()"
   ]
  },
  {
   "cell_type": "code",
   "execution_count": 141,
   "id": "35dc1514",
   "metadata": {},
   "outputs": [
    {
     "data": {
      "text/plain": [
       "0.009739830715226216"
      ]
     },
     "execution_count": 141,
     "metadata": {},
     "output_type": "execute_result"
    }
   ],
   "source": [
    "r.rand()"
   ]
  },
  {
   "cell_type": "code",
   "execution_count": 142,
   "id": "d73e2f55",
   "metadata": {},
   "outputs": [
    {
     "data": {
      "text/plain": [
       "0.7293446785813449"
      ]
     },
     "execution_count": 142,
     "metadata": {},
     "output_type": "execute_result"
    }
   ],
   "source": [
    "r.rand()"
   ]
  },
  {
   "cell_type": "markdown",
   "id": "1659404b",
   "metadata": {},
   "source": [
    "2. But if I use a set seed i will get the same result all the time"
   ]
  },
  {
   "cell_type": "code",
   "execution_count": 143,
   "id": "cd2aa1ee",
   "metadata": {},
   "outputs": [],
   "source": [
    "r.seed(5)"
   ]
  },
  {
   "cell_type": "code",
   "execution_count": 144,
   "id": "db126540",
   "metadata": {},
   "outputs": [
    {
     "data": {
      "text/plain": [
       "0.22199317108973948"
      ]
     },
     "execution_count": 144,
     "metadata": {},
     "output_type": "execute_result"
    }
   ],
   "source": [
    "r.rand()"
   ]
  },
  {
   "cell_type": "markdown",
   "id": "6e52baaa",
   "metadata": {},
   "source": [
    "## Reshaping In Detail"
   ]
  },
  {
   "cell_type": "code",
   "execution_count": 145,
   "id": "d0b42aff",
   "metadata": {},
   "outputs": [
    {
     "data": {
      "text/plain": [
       "array([ 0,  1,  2,  3,  4,  5,  6,  7,  8,  9, 10, 11, 12, 13, 14, 15])"
      ]
     },
     "execution_count": 145,
     "metadata": {},
     "output_type": "execute_result"
    }
   ],
   "source": [
    "a = np.arange(16)\n",
    "a"
   ]
  },
  {
   "cell_type": "markdown",
   "id": "7dba2840",
   "metadata": {},
   "source": [
    "* \"C\" is for (row major) and \"F\" is Fortran which is for(column major).\n",
    "* The default value is row major(C)"
   ]
  },
  {
   "cell_type": "code",
   "execution_count": 146,
   "id": "e7f7b2cc",
   "metadata": {},
   "outputs": [
    {
     "data": {
      "text/plain": [
       "array([[ 0,  4,  8, 12],\n",
       "       [ 1,  5,  9, 13],\n",
       "       [ 2,  6, 10, 14],\n",
       "       [ 3,  7, 11, 15]])"
      ]
     },
     "execution_count": 146,
     "metadata": {},
     "output_type": "execute_result"
    }
   ],
   "source": [
    "b = a.reshape((4,4),order='F')\n",
    "b"
   ]
  },
  {
   "cell_type": "code",
   "execution_count": 147,
   "id": "0f2bd305",
   "metadata": {},
   "outputs": [
    {
     "data": {
      "text/plain": [
       "array([[ 0,  1,  2,  3],\n",
       "       [ 4,  5,  6,  7],\n",
       "       [ 8,  9, 10, 11],\n",
       "       [12, 13, 14, 15]])"
      ]
     },
     "execution_count": 147,
     "metadata": {},
     "output_type": "execute_result"
    }
   ],
   "source": [
    "c = a.reshape((4,4),order='C')\n",
    "c"
   ]
  },
  {
   "cell_type": "markdown",
   "id": "25c60510",
   "metadata": {},
   "source": [
    "#### Flattening an Array\n",
    "* It is used to flatten a multi-dimentional array into a single dimentional form, there are two methods of flattening an array,\n",
    "1. flatten()\n",
    "2. ravel()\n",
    "* Both commands almost does a same job with some differences"
   ]
  },
  {
   "cell_type": "code",
   "execution_count": 148,
   "id": "03709c6f",
   "metadata": {},
   "outputs": [],
   "source": [
    "arr = np.array([[5,7,3],[8,4,1],[9,6,2]])"
   ]
  },
  {
   "cell_type": "code",
   "execution_count": 149,
   "id": "b483884a",
   "metadata": {},
   "outputs": [
    {
     "data": {
      "text/plain": [
       "array([[5, 7, 3],\n",
       "       [8, 4, 1],\n",
       "       [9, 6, 2]])"
      ]
     },
     "execution_count": 149,
     "metadata": {},
     "output_type": "execute_result"
    }
   ],
   "source": [
    "arr"
   ]
  },
  {
   "cell_type": "code",
   "execution_count": 150,
   "id": "0cd4b9df",
   "metadata": {},
   "outputs": [
    {
     "data": {
      "text/plain": [
       "array([5, 7, 3, 8, 4, 1, 9, 6, 2])"
      ]
     },
     "execution_count": 150,
     "metadata": {},
     "output_type": "execute_result"
    }
   ],
   "source": [
    "arr.flatten()"
   ]
  },
  {
   "cell_type": "markdown",
   "id": "249b5ad0",
   "metadata": {},
   "source": [
    "* Can also do it by \"reshape()\" method"
   ]
  },
  {
   "cell_type": "code",
   "execution_count": 151,
   "id": "0d7fa0ba",
   "metadata": {},
   "outputs": [
    {
     "data": {
      "text/plain": [
       "array([5, 7, 3, 8, 4, 1, 9, 6, 2])"
      ]
     },
     "execution_count": 151,
     "metadata": {},
     "output_type": "execute_result"
    }
   ],
   "source": [
    "arr.reshape(9)"
   ]
  },
  {
   "cell_type": "markdown",
   "id": "6c7d23fe",
   "metadata": {},
   "source": [
    "## Concatenate or Stacking"
   ]
  },
  {
   "cell_type": "code",
   "execution_count": 152,
   "id": "1837bd6a",
   "metadata": {},
   "outputs": [],
   "source": [
    "a = np.array([[1,2,3,4],[5,6,7,8]])"
   ]
  },
  {
   "cell_type": "code",
   "execution_count": 153,
   "id": "9d57a746",
   "metadata": {},
   "outputs": [],
   "source": [
    "b = np.array([[9,10,11,12],[13,14,15,16]])"
   ]
  },
  {
   "cell_type": "code",
   "execution_count": 154,
   "id": "5af8e45d",
   "metadata": {},
   "outputs": [
    {
     "name": "stdout",
     "output_type": "stream",
     "text": [
      "[[1 2 3 4]\n",
      " [5 6 7 8]]\n",
      "[[ 9 10 11 12]\n",
      " [13 14 15 16]]\n"
     ]
    }
   ],
   "source": [
    "print(a)\n",
    "print(b)"
   ]
  },
  {
   "cell_type": "code",
   "execution_count": 155,
   "id": "18181775",
   "metadata": {},
   "outputs": [
    {
     "data": {
      "text/plain": [
       "array([[ 1,  2,  3,  4],\n",
       "       [ 5,  6,  7,  8],\n",
       "       [ 9, 10, 11, 12],\n",
       "       [13, 14, 15, 16]])"
      ]
     },
     "execution_count": 155,
     "metadata": {},
     "output_type": "execute_result"
    }
   ],
   "source": [
    "np.concatenate((a,b))"
   ]
  },
  {
   "cell_type": "markdown",
   "id": "0c430839",
   "metadata": {},
   "source": [
    "* The default concatenation will always be row wise, but can be change into column wise by changing the value of axis\n",
    "1. \"0\" is for row wise\n",
    "2. \"1\" is for column wise"
   ]
  },
  {
   "cell_type": "code",
   "execution_count": 156,
   "id": "e36f5fe1",
   "metadata": {},
   "outputs": [
    {
     "data": {
      "text/plain": [
       "array([[ 1,  2,  3,  4,  9, 10, 11, 12],\n",
       "       [ 5,  6,  7,  8, 13, 14, 15, 16]])"
      ]
     },
     "execution_count": 156,
     "metadata": {},
     "output_type": "execute_result"
    }
   ],
   "source": [
    "np.concatenate((a,b),axis=1)"
   ]
  },
  {
   "cell_type": "markdown",
   "id": "16b019d4",
   "metadata": {},
   "source": [
    "* Concatenation can also be done by,\n",
    "1. \"hstack()\" which is horizontal(column) wise stacking\n",
    "2. \"vstack()\" which is verticle(row) wise stacking"
   ]
  },
  {
   "cell_type": "code",
   "execution_count": 157,
   "id": "94c13c9a",
   "metadata": {},
   "outputs": [
    {
     "data": {
      "text/plain": [
       "array([[ 1,  2,  3,  4,  9, 10, 11, 12],\n",
       "       [ 5,  6,  7,  8, 13, 14, 15, 16]])"
      ]
     },
     "execution_count": 157,
     "metadata": {},
     "output_type": "execute_result"
    }
   ],
   "source": [
    "np.hstack((a,b))"
   ]
  },
  {
   "cell_type": "code",
   "execution_count": 158,
   "id": "5986e884",
   "metadata": {},
   "outputs": [
    {
     "data": {
      "text/plain": [
       "array([[ 1,  2,  3,  4],\n",
       "       [ 5,  6,  7,  8],\n",
       "       [ 9, 10, 11, 12],\n",
       "       [13, 14, 15, 16]])"
      ]
     },
     "execution_count": 158,
     "metadata": {},
     "output_type": "execute_result"
    }
   ],
   "source": [
    "np.vstack((a,b))"
   ]
  },
  {
   "cell_type": "markdown",
   "id": "7fc13dd7",
   "metadata": {},
   "source": [
    "* Concatenation can also be done by,\n",
    "1. \"c_[]\" which is horizontal(row) wise stacking\n",
    "2. \"r_[]\" which is verticle(column) wise stacking\n",
    "* Remember these ones are using square brackets []"
   ]
  },
  {
   "cell_type": "code",
   "execution_count": 159,
   "id": "e10784ff",
   "metadata": {},
   "outputs": [
    {
     "data": {
      "text/plain": [
       "array([[ 1,  2,  3,  4,  9, 10, 11, 12],\n",
       "       [ 5,  6,  7,  8, 13, 14, 15, 16]])"
      ]
     },
     "execution_count": 159,
     "metadata": {},
     "output_type": "execute_result"
    }
   ],
   "source": [
    "np.c_[a,b]"
   ]
  },
  {
   "cell_type": "code",
   "execution_count": 160,
   "id": "27fe2e8d",
   "metadata": {},
   "outputs": [
    {
     "data": {
      "text/plain": [
       "array([[ 9, 10, 11, 12],\n",
       "       [13, 14, 15, 16],\n",
       "       [ 1,  2,  3,  4],\n",
       "       [ 5,  6,  7,  8]])"
      ]
     },
     "execution_count": 160,
     "metadata": {},
     "output_type": "execute_result"
    }
   ],
   "source": [
    "np.r_[b,a]"
   ]
  },
  {
   "cell_type": "code",
   "execution_count": 161,
   "id": "3fd87f6d",
   "metadata": {},
   "outputs": [
    {
     "data": {
      "text/plain": [
       "array([[ 9, 10, 11, 12],\n",
       "       [13, 14, 15, 16],\n",
       "       [ 1,  2,  3,  4],\n",
       "       [ 5,  6,  7,  8],\n",
       "       [ 9, 10, 11, 12],\n",
       "       [13, 14, 15, 16],\n",
       "       [ 9, 10, 11, 12],\n",
       "       [13, 14, 15, 16]])"
      ]
     },
     "execution_count": 161,
     "metadata": {},
     "output_type": "execute_result"
    }
   ],
   "source": [
    "np.r_[b,a,b,b]"
   ]
  },
  {
   "cell_type": "markdown",
   "id": "8f4701c3",
   "metadata": {},
   "source": [
    "## Spliting"
   ]
  },
  {
   "cell_type": "markdown",
   "id": "a6f1a72a",
   "metadata": {},
   "source": [
    "#### Splitting One dimensional array"
   ]
  },
  {
   "cell_type": "code",
   "execution_count": 162,
   "id": "fa363231",
   "metadata": {},
   "outputs": [],
   "source": [
    "x = np.array([1,2,3,4,7,8,9])"
   ]
  },
  {
   "cell_type": "markdown",
   "id": "589151bc",
   "metadata": {},
   "source": [
    "* Here \"x\" is Array and \"3\" is the index"
   ]
  },
  {
   "cell_type": "code",
   "execution_count": 163,
   "id": "85b873f2",
   "metadata": {},
   "outputs": [
    {
     "data": {
      "text/plain": [
       "[array([1, 2, 3]), array([4, 7, 8, 9])]"
      ]
     },
     "execution_count": 163,
     "metadata": {},
     "output_type": "execute_result"
    }
   ],
   "source": [
    "np.split(x,[3])"
   ]
  },
  {
   "cell_type": "code",
   "execution_count": 164,
   "id": "c5dc0cd6",
   "metadata": {},
   "outputs": [
    {
     "data": {
      "text/plain": [
       "[array([1, 2]), array([3, 4, 7]), array([8, 9])]"
      ]
     },
     "execution_count": 164,
     "metadata": {},
     "output_type": "execute_result"
    }
   ],
   "source": [
    "np.split(x,[2,5])"
   ]
  },
  {
   "cell_type": "markdown",
   "id": "7012b706",
   "metadata": {},
   "source": [
    "* First \"2,7\" in the range and the lasts 2\"\" is the inteval"
   ]
  },
  {
   "cell_type": "code",
   "execution_count": 165,
   "id": "5bc70bf0",
   "metadata": {},
   "outputs": [],
   "source": [
    "l = np.arange(2,7,2)"
   ]
  },
  {
   "cell_type": "code",
   "execution_count": 166,
   "id": "6d74aa60",
   "metadata": {},
   "outputs": [
    {
     "data": {
      "text/plain": [
       "[array([1, 2]), array([3, 4]), array([7, 8]), array([9])]"
      ]
     },
     "execution_count": 166,
     "metadata": {},
     "output_type": "execute_result"
    }
   ],
   "source": [
    "np.split(x,l)"
   ]
  },
  {
   "cell_type": "markdown",
   "id": "1025917a",
   "metadata": {},
   "source": [
    "#### Splitting Two dimensional array"
   ]
  },
  {
   "cell_type": "code",
   "execution_count": 167,
   "id": "b6dd7e4d",
   "metadata": {},
   "outputs": [],
   "source": [
    "q = np.array([[1,2,3],[4,5,6],[7,8,9]])"
   ]
  },
  {
   "cell_type": "code",
   "execution_count": 168,
   "id": "da09e53c",
   "metadata": {},
   "outputs": [
    {
     "data": {
      "text/plain": [
       "array([[1, 2, 3],\n",
       "       [4, 5, 6],\n",
       "       [7, 8, 9]])"
      ]
     },
     "execution_count": 168,
     "metadata": {},
     "output_type": "execute_result"
    }
   ],
   "source": [
    "q"
   ]
  },
  {
   "cell_type": "code",
   "execution_count": 169,
   "id": "add3b2c3",
   "metadata": {},
   "outputs": [
    {
     "data": {
      "text/plain": [
       "[array([[1, 2, 3],\n",
       "        [4, 5, 6]]),\n",
       " array([[7, 8, 9]])]"
      ]
     },
     "execution_count": 169,
     "metadata": {},
     "output_type": "execute_result"
    }
   ],
   "source": [
    "np.split(q,[2])"
   ]
  },
  {
   "cell_type": "markdown",
   "id": "8ce75cea",
   "metadata": {},
   "source": [
    "* By default the split will alway be row wise, for column wise splitting we have to mention the axis!\n",
    "1. \"axis = 0\" for row wise splitting\n",
    "2. \"axis = 1\" for column wise splitting"
   ]
  },
  {
   "cell_type": "code",
   "execution_count": 170,
   "id": "61069ddb",
   "metadata": {},
   "outputs": [
    {
     "data": {
      "text/plain": [
       "[array([[1, 2, 3],\n",
       "        [4, 5, 6]]),\n",
       " array([[7, 8, 9]])]"
      ]
     },
     "execution_count": 170,
     "metadata": {},
     "output_type": "execute_result"
    }
   ],
   "source": [
    "np.split(q,[2],axis=0)"
   ]
  },
  {
   "cell_type": "code",
   "execution_count": 171,
   "id": "58402281",
   "metadata": {},
   "outputs": [
    {
     "data": {
      "text/plain": [
       "[array([[1, 2],\n",
       "        [4, 5],\n",
       "        [7, 8]]),\n",
       " array([[3],\n",
       "        [6],\n",
       "        [9]])]"
      ]
     },
     "execution_count": 171,
     "metadata": {},
     "output_type": "execute_result"
    }
   ],
   "source": [
    "np.split(q,[2],axis=1)"
   ]
  },
  {
   "cell_type": "markdown",
   "id": "ba97a8d9",
   "metadata": {},
   "source": [
    "* We can also use,\n",
    "1. \"vsplit\" for verticle split.\n",
    "2. \"hsplit\" for horizontal split."
   ]
  },
  {
   "cell_type": "code",
   "execution_count": 172,
   "id": "a8f05cd7",
   "metadata": {},
   "outputs": [
    {
     "data": {
      "text/plain": [
       "[array([[1, 2],\n",
       "        [4, 5],\n",
       "        [7, 8]]),\n",
       " array([[3],\n",
       "        [6],\n",
       "        [9]])]"
      ]
     },
     "execution_count": 172,
     "metadata": {},
     "output_type": "execute_result"
    }
   ],
   "source": [
    "np.hsplit(q,[2])"
   ]
  },
  {
   "cell_type": "code",
   "execution_count": 173,
   "id": "85d0291e",
   "metadata": {},
   "outputs": [
    {
     "data": {
      "text/plain": [
       "[array([[1, 2, 3],\n",
       "        [4, 5, 6]]),\n",
       " array([[7, 8, 9]])]"
      ]
     },
     "execution_count": 173,
     "metadata": {},
     "output_type": "execute_result"
    }
   ],
   "source": [
    "np.vsplit(q,[2])"
   ]
  }
 ],
 "metadata": {
  "kernelspec": {
   "display_name": "Python 3 (ipykernel)",
   "language": "python",
   "name": "python3"
  },
  "language_info": {
   "codemirror_mode": {
    "name": "ipython",
    "version": 3
   },
   "file_extension": ".py",
   "mimetype": "text/x-python",
   "name": "python",
   "nbconvert_exporter": "python",
   "pygments_lexer": "ipython3",
   "version": "3.9.12"
  }
 },
 "nbformat": 4,
 "nbformat_minor": 5
}
