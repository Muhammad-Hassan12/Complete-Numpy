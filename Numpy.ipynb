{
 "cells": [
  {
   "cell_type": "markdown",
   "id": "4f64ae5a",
   "metadata": {},
   "source": [
    "# Numpy"
   ]
  },
  {
   "cell_type": "markdown",
   "id": "ee3d7704",
   "metadata": {},
   "source": [
    "Arrays\n",
    "1. Faster\n",
    "2. Contigous memory allocation\n",
    "3. Same data type\n",
    "4. If you want to increase the size, you must have to recreate array\n",
    "\n",
    "List\n",
    "1. Slow\n",
    "2. Sparse memory\n",
    "3. Can store diferent data types\n",
    "4. Can dynamically grow"
   ]
  },
  {
   "cell_type": "markdown",
   "id": "7a4da907",
   "metadata": {},
   "source": [
    "## Comparison of Numpy with Python!"
   ]
  },
  {
   "cell_type": "code",
   "execution_count": null,
   "id": "b3e4af1e",
   "metadata": {},
   "outputs": [],
   "source": [
    "import numpy as np"
   ]
  },
  {
   "cell_type": "code",
   "execution_count": null,
   "id": "ad4736b1",
   "metadata": {},
   "outputs": [],
   "source": [
    "python_list = range(1000000)"
   ]
  },
  {
   "cell_type": "code",
   "execution_count": null,
   "id": "0bcdbbd2",
   "metadata": {},
   "outputs": [],
   "source": [
    "numpy_list = np.arange(1000000)"
   ]
  },
  {
   "cell_type": "markdown",
   "id": "59a1d4a8",
   "metadata": {},
   "source": [
    "#### Multiplying a list with 6, and making a loop of 100"
   ]
  },
  {
   "cell_type": "code",
   "execution_count": null,
   "id": "e89aa04c",
   "metadata": {},
   "outputs": [],
   "source": [
    "%time for i in range(100): result = [i*6 for i in python_list]"
   ]
  },
  {
   "cell_type": "markdown",
   "id": "ad7924f0",
   "metadata": {},
   "source": [
    "#### Multiplying an array with 6, and making a loop of 100"
   ]
  },
  {
   "cell_type": "code",
   "execution_count": null,
   "id": "19d649de",
   "metadata": {},
   "outputs": [],
   "source": [
    "%time for i in range(100): result = numpy_list*6"
   ]
  },
  {
   "cell_type": "markdown",
   "id": "4a1def6f",
   "metadata": {},
   "source": [
    "## Numpy Array Creation"
   ]
  },
  {
   "cell_type": "markdown",
   "id": "8e88342e",
   "metadata": {},
   "source": [
    " #### For one dimensional arrays"
   ]
  },
  {
   "cell_type": "code",
   "execution_count": null,
   "id": "5b58c9ac",
   "metadata": {},
   "outputs": [],
   "source": [
    "one_d_array = np.zeros((10))"
   ]
  },
  {
   "cell_type": "code",
   "execution_count": null,
   "id": "e2820670",
   "metadata": {},
   "outputs": [],
   "source": [
    "one_d_array"
   ]
  },
  {
   "cell_type": "markdown",
   "id": "53311914",
   "metadata": {},
   "source": [
    "#### For two dimensional arrays"
   ]
  },
  {
   "cell_type": "code",
   "execution_count": null,
   "id": "c314b7c4",
   "metadata": {},
   "outputs": [],
   "source": [
    "two_d_array = np.ones((10,10))"
   ]
  },
  {
   "cell_type": "code",
   "execution_count": null,
   "id": "908fe728",
   "metadata": {},
   "outputs": [],
   "source": [
    "two_d_array"
   ]
  },
  {
   "cell_type": "markdown",
   "id": "1708b158",
   "metadata": {},
   "source": [
    "The built-in value for making array is 0,1, but it can understand all digits, like:"
   ]
  },
  {
   "cell_type": "markdown",
   "id": "234ab3a4",
   "metadata": {},
   "source": [
    "#### Can multiply divide add substarct to make new values"
   ]
  },
  {
   "cell_type": "code",
   "execution_count": null,
   "id": "acc3f05e",
   "metadata": {},
   "outputs": [],
   "source": [
    "a = np.ones(10) * 5"
   ]
  },
  {
   "cell_type": "code",
   "execution_count": null,
   "id": "e5b5daf4",
   "metadata": {},
   "outputs": [],
   "source": [
    "a"
   ]
  },
  {
   "cell_type": "markdown",
   "id": "66bf6a63",
   "metadata": {},
   "source": [
    "#### Same applies here!"
   ]
  },
  {
   "cell_type": "code",
   "execution_count": null,
   "id": "d74dab6d",
   "metadata": {},
   "outputs": [],
   "source": [
    "b = np.zeros(5)+10"
   ]
  },
  {
   "cell_type": "code",
   "execution_count": null,
   "id": "e997fea9",
   "metadata": {},
   "outputs": [],
   "source": [
    "b"
   ]
  },
  {
   "cell_type": "markdown",
   "id": "2a78d32e",
   "metadata": {},
   "source": [
    "#### Making array by range"
   ]
  },
  {
   "cell_type": "code",
   "execution_count": null,
   "id": "d4832050",
   "metadata": {},
   "outputs": [],
   "source": [
    "c = np.arange(1,16)"
   ]
  },
  {
   "cell_type": "code",
   "execution_count": null,
   "id": "e8d4ffe8",
   "metadata": {},
   "outputs": [],
   "source": [
    "c"
   ]
  },
  {
   "cell_type": "markdown",
   "id": "a94aae44",
   "metadata": {},
   "source": [
    "## Multi diumentional arrays!"
   ]
  },
  {
   "cell_type": "markdown",
   "id": "b996ba3c",
   "metadata": {},
   "source": [
    "#### Two dimensional array"
   ]
  },
  {
   "cell_type": "code",
   "execution_count": null,
   "id": "64422e61",
   "metadata": {},
   "outputs": [],
   "source": [
    "i = np.zeros((5,6))\n",
    "i"
   ]
  },
  {
   "cell_type": "markdown",
   "id": "6f5f14c7",
   "metadata": {},
   "source": [
    "#### Three dimensional array\n",
    "* The first number '5' is depth of array '6' is coulmn and '7' is row!"
   ]
  },
  {
   "cell_type": "code",
   "execution_count": null,
   "id": "a9589c70",
   "metadata": {},
   "outputs": [],
   "source": [
    "o = np.zeros((5,6,7))\n",
    "o"
   ]
  },
  {
   "cell_type": "markdown",
   "id": "2377d1bc",
   "metadata": {},
   "source": [
    "#### 'n' Dimensional array\n",
    "* Can make n numbers of dimention in arrays.\n",
    "* Normally three dimensional array is enough!"
   ]
  },
  {
   "cell_type": "code",
   "execution_count": null,
   "id": "4ef8a608",
   "metadata": {},
   "outputs": [],
   "source": [
    "p = np.zeros((5,6,7,8))\n",
    "p"
   ]
  },
  {
   "cell_type": "markdown",
   "id": "42dee3ae",
   "metadata": {},
   "source": [
    "#### To check the shape"
   ]
  },
  {
   "cell_type": "code",
   "execution_count": null,
   "id": "a31b4521",
   "metadata": {},
   "outputs": [],
   "source": [
    "p.shape"
   ]
  },
  {
   "cell_type": "markdown",
   "id": "ce765154",
   "metadata": {},
   "source": [
    "## Custom elements arrays"
   ]
  },
  {
   "cell_type": "code",
   "execution_count": null,
   "id": "a2988deb",
   "metadata": {},
   "outputs": [],
   "source": [
    "x = np.array([45,32,46,84,31,6,56,21])\n",
    "x"
   ]
  },
  {
   "cell_type": "code",
   "execution_count": null,
   "id": "1a41fac1",
   "metadata": {},
   "outputs": [],
   "source": [
    "x.shape"
   ]
  },
  {
   "cell_type": "markdown",
   "id": "467d25a5",
   "metadata": {},
   "source": [
    "## Reshaping an array"
   ]
  },
  {
   "cell_type": "markdown",
   "id": "ae085f33",
   "metadata": {},
   "source": [
    "* the first number is always Row and the second number is Coloumn!"
   ]
  },
  {
   "cell_type": "code",
   "execution_count": null,
   "id": "ca7ba660",
   "metadata": {},
   "outputs": [],
   "source": [
    "y = x.reshape(4,2)\n",
    "y"
   ]
  },
  {
   "cell_type": "code",
   "execution_count": null,
   "id": "def14491",
   "metadata": {},
   "outputs": [],
   "source": [
    "y.shape"
   ]
  },
  {
   "cell_type": "markdown",
   "id": "8e459132",
   "metadata": {},
   "source": [
    "#### To check the numbers of dimension"
   ]
  },
  {
   "cell_type": "code",
   "execution_count": null,
   "id": "90386253",
   "metadata": {},
   "outputs": [],
   "source": [
    "y.ndim"
   ]
  },
  {
   "cell_type": "markdown",
   "id": "b6c1589f",
   "metadata": {},
   "source": [
    "## for accessing indivisual elements"
   ]
  },
  {
   "cell_type": "code",
   "execution_count": null,
   "id": "1de7cdff",
   "metadata": {},
   "outputs": [],
   "source": [
    "y[2,1]"
   ]
  },
  {
   "cell_type": "code",
   "execution_count": null,
   "id": "6f14cb12",
   "metadata": {},
   "outputs": [],
   "source": [
    "y[3,0]"
   ]
  },
  {
   "cell_type": "code",
   "execution_count": null,
   "id": "91f2c376",
   "metadata": {},
   "outputs": [],
   "source": [
    "y = x.reshape(2,2,2)\n",
    "y"
   ]
  },
  {
   "cell_type": "code",
   "execution_count": null,
   "id": "6f83b148",
   "metadata": {},
   "outputs": [],
   "source": [
    "y[1,0,0]"
   ]
  },
  {
   "cell_type": "markdown",
   "id": "7ddf4688",
   "metadata": {},
   "source": [
    "## Slicing\n",
    "Slicing dependes on three things:\n",
    "1. Start\n",
    "2. End\n",
    "3. Step"
   ]
  },
  {
   "cell_type": "code",
   "execution_count": null,
   "id": "bc9f3c9c",
   "metadata": {},
   "outputs": [],
   "source": [
    "y = y.reshape(4,2)"
   ]
  },
  {
   "cell_type": "code",
   "execution_count": null,
   "id": "dec25944",
   "metadata": {},
   "outputs": [],
   "source": [
    "y"
   ]
  },
  {
   "cell_type": "code",
   "execution_count": null,
   "id": "75aff151",
   "metadata": {},
   "outputs": [],
   "source": [
    "y[1:3]"
   ]
  },
  {
   "cell_type": "markdown",
   "id": "13ac5ed9",
   "metadata": {},
   "source": [
    "#### Mixing indexing and slicing"
   ]
  },
  {
   "cell_type": "markdown",
   "id": "d5349a80",
   "metadata": {},
   "source": [
    "* \"1:4\" is representing the slicing and \"0\" is coloumn"
   ]
  },
  {
   "cell_type": "code",
   "execution_count": null,
   "id": "39122be8",
   "metadata": {},
   "outputs": [],
   "source": [
    "y[1:4,0]"
   ]
  },
  {
   "cell_type": "code",
   "execution_count": null,
   "id": "d1c80cb1",
   "metadata": {},
   "outputs": [],
   "source": [
    "y"
   ]
  },
  {
   "cell_type": "markdown",
   "id": "272a3da4",
   "metadata": {},
   "source": [
    "* \" :: \" Representing all components of array and \"2\" is representing the step size."
   ]
  },
  {
   "cell_type": "code",
   "execution_count": null,
   "id": "5530d4b6",
   "metadata": {},
   "outputs": [],
   "source": [
    "y[::2]"
   ]
  },
  {
   "cell_type": "code",
   "execution_count": null,
   "id": "a3aecc2a",
   "metadata": {},
   "outputs": [],
   "source": [
    "y"
   ]
  },
  {
   "cell_type": "code",
   "execution_count": null,
   "id": "fed5c170",
   "metadata": {},
   "outputs": [],
   "source": [
    "y[::,0]"
   ]
  },
  {
   "cell_type": "code",
   "execution_count": null,
   "id": "d17940bd",
   "metadata": {},
   "outputs": [],
   "source": [
    "y[::,1]"
   ]
  },
  {
   "cell_type": "code",
   "execution_count": null,
   "id": "84de8d85",
   "metadata": {},
   "outputs": [],
   "source": [
    "y[2,::]"
   ]
  },
  {
   "cell_type": "code",
   "execution_count": null,
   "id": "3f35abb8",
   "metadata": {},
   "outputs": [],
   "source": [
    "y[::2,0]"
   ]
  },
  {
   "cell_type": "markdown",
   "id": "0a3b2aec",
   "metadata": {},
   "source": [
    "#### For Fancy Indexing"
   ]
  },
  {
   "cell_type": "code",
   "execution_count": null,
   "id": "fd43fb11",
   "metadata": {},
   "outputs": [],
   "source": [
    "x"
   ]
  },
  {
   "cell_type": "markdown",
   "id": "23e1475f",
   "metadata": {},
   "source": [
    "* Have to pass double list (double square bracket)"
   ]
  },
  {
   "cell_type": "code",
   "execution_count": null,
   "id": "d88e30b1",
   "metadata": {},
   "outputs": [],
   "source": [
    "x[[2,7]]"
   ]
  },
  {
   "cell_type": "markdown",
   "id": "36b3ed51",
   "metadata": {},
   "source": [
    "## Vectorizing operations"
   ]
  },
  {
   "cell_type": "code",
   "execution_count": null,
   "id": "6ac22feb",
   "metadata": {},
   "outputs": [],
   "source": [
    "num1 = np.array([73,64,34])\n",
    "num1"
   ]
  },
  {
   "cell_type": "code",
   "execution_count": null,
   "id": "537acfea",
   "metadata": {},
   "outputs": [],
   "source": [
    "num2 = np.array([44,88,55])\n",
    "num2"
   ]
  },
  {
   "cell_type": "code",
   "execution_count": null,
   "id": "45a6ae83",
   "metadata": {},
   "outputs": [],
   "source": [
    "num1 + num2"
   ]
  },
  {
   "cell_type": "code",
   "execution_count": null,
   "id": "d1149ac1",
   "metadata": {},
   "outputs": [],
   "source": [
    "num1 - num2"
   ]
  },
  {
   "cell_type": "code",
   "execution_count": null,
   "id": "5342dec9",
   "metadata": {},
   "outputs": [],
   "source": [
    "num3 = np.array([24,31,11])\n",
    "num3"
   ]
  },
  {
   "cell_type": "code",
   "execution_count": null,
   "id": "327f6eec",
   "metadata": {},
   "outputs": [],
   "source": [
    "(num1/num3)*num2"
   ]
  },
  {
   "cell_type": "code",
   "execution_count": null,
   "id": "2d39b7cf",
   "metadata": {},
   "outputs": [],
   "source": [
    "4/num2"
   ]
  },
  {
   "cell_type": "code",
   "execution_count": null,
   "id": "5c0290b9",
   "metadata": {},
   "outputs": [],
   "source": [
    "8*num1"
   ]
  },
  {
   "cell_type": "code",
   "execution_count": null,
   "id": "7e1c3048",
   "metadata": {},
   "outputs": [],
   "source": [
    "num1*num3**2"
   ]
  },
  {
   "cell_type": "markdown",
   "id": "a28a89e1",
   "metadata": {},
   "source": [
    "## Practicing shapes"
   ]
  },
  {
   "cell_type": "code",
   "execution_count": null,
   "id": "126a382a",
   "metadata": {},
   "outputs": [],
   "source": [
    "t = np.zeros((5,5))\n",
    "t"
   ]
  },
  {
   "cell_type": "code",
   "execution_count": null,
   "id": "86707863",
   "metadata": {},
   "outputs": [],
   "source": [
    "t[0] = 1"
   ]
  },
  {
   "cell_type": "code",
   "execution_count": null,
   "id": "52feb0d3",
   "metadata": {},
   "outputs": [],
   "source": [
    "t[4] = 1"
   ]
  },
  {
   "cell_type": "code",
   "execution_count": null,
   "id": "6af2762c",
   "metadata": {},
   "outputs": [],
   "source": [
    "t"
   ]
  },
  {
   "cell_type": "code",
   "execution_count": null,
   "id": "38b0f2fe",
   "metadata": {},
   "outputs": [],
   "source": [
    "t[::,0] = 1"
   ]
  },
  {
   "cell_type": "code",
   "execution_count": null,
   "id": "2144afd4",
   "metadata": {},
   "outputs": [],
   "source": [
    "t[::,4] = 1"
   ]
  },
  {
   "cell_type": "code",
   "execution_count": null,
   "id": "704d122a",
   "metadata": {},
   "outputs": [],
   "source": [
    "t"
   ]
  },
  {
   "cell_type": "markdown",
   "id": "fa46156f",
   "metadata": {},
   "source": [
    "## Garbage Generation or Arbitrary genration or  (kinda) random generation"
   ]
  },
  {
   "cell_type": "markdown",
   "id": "6481f0d4",
   "metadata": {},
   "source": [
    "* The value shown which is shown in the below \"np.empty\" is already generated above, so it is just printing the already generated code."
   ]
  },
  {
   "cell_type": "code",
   "execution_count": null,
   "id": "208419b7",
   "metadata": {},
   "outputs": [],
   "source": [
    "np.empty((5,5))"
   ]
  },
  {
   "cell_type": "code",
   "execution_count": null,
   "id": "50b3698e",
   "metadata": {},
   "outputs": [],
   "source": [
    "np.empty((5,9))"
   ]
  },
  {
   "cell_type": "code",
   "execution_count": null,
   "id": "fc7d32eb",
   "metadata": {},
   "outputs": [],
   "source": [
    "np.empty((7,5))"
   ]
  },
  {
   "cell_type": "code",
   "execution_count": null,
   "id": "98810b9f",
   "metadata": {},
   "outputs": [],
   "source": [
    "np.empty((2,2))"
   ]
  },
  {
   "cell_type": "markdown",
   "id": "982cd61a",
   "metadata": {},
   "source": [
    "## To check data type"
   ]
  },
  {
   "cell_type": "code",
   "execution_count": null,
   "id": "1a42e282",
   "metadata": {},
   "outputs": [],
   "source": [
    "x.dtype"
   ]
  },
  {
   "cell_type": "code",
   "execution_count": null,
   "id": "8cf07e69",
   "metadata": {},
   "outputs": [],
   "source": [
    "num3.dtype"
   ]
  },
  {
   "cell_type": "markdown",
   "id": "9f788acd",
   "metadata": {},
   "source": [
    "## Storing variables in Array"
   ]
  },
  {
   "cell_type": "markdown",
   "id": "4cd118bd",
   "metadata": {},
   "source": [
    "* Can store any data type but it should be one at a time!"
   ]
  },
  {
   "cell_type": "markdown",
   "id": "045702fe",
   "metadata": {},
   "source": [
    "e.g: \n",
    "  In an array of numbers you can not add any integers and vice versa."
   ]
  },
  {
   "cell_type": "code",
   "execution_count": null,
   "id": "435356c4",
   "metadata": {},
   "outputs": [],
   "source": [
    "name = np.array(('Hassan','Subhan','Arsalan','Faizan','Rayyan','Affan'))"
   ]
  },
  {
   "cell_type": "code",
   "execution_count": null,
   "id": "ff44623a",
   "metadata": {},
   "outputs": [],
   "source": [
    "name"
   ]
  },
  {
   "cell_type": "code",
   "execution_count": null,
   "id": "6a1abc38",
   "metadata": {},
   "outputs": [],
   "source": [
    "name.reshape(2,3)"
   ]
  },
  {
   "cell_type": "markdown",
   "id": "5eb68e8d",
   "metadata": {},
   "source": [
    "## Comparison"
   ]
  },
  {
   "cell_type": "markdown",
   "id": "3ce78683",
   "metadata": {},
   "source": [
    "* For True and False conditions"
   ]
  },
  {
   "cell_type": "code",
   "execution_count": null,
   "id": "3e810ccb",
   "metadata": {},
   "outputs": [],
   "source": [
    "salary = np.array([37000,450000,98000,5000,60000])"
   ]
  },
  {
   "cell_type": "code",
   "execution_count": null,
   "id": "f656cf6f",
   "metadata": {},
   "outputs": [],
   "source": [
    "salary >  45000"
   ]
  },
  {
   "cell_type": "code",
   "execution_count": null,
   "id": "70cf923a",
   "metadata": {},
   "outputs": [],
   "source": [
    "salary < 30000"
   ]
  },
  {
   "cell_type": "markdown",
   "id": "dded3360",
   "metadata": {},
   "source": [
    "* To print the Value"
   ]
  },
  {
   "cell_type": "code",
   "execution_count": null,
   "id": "b793b765",
   "metadata": {},
   "outputs": [],
   "source": [
    "salary [salary >= 60000]"
   ]
  },
  {
   "cell_type": "markdown",
   "id": "2366d4c4",
   "metadata": {},
   "source": [
    "## Numpy Eliment-Wise Functions"
   ]
  },
  {
   "cell_type": "code",
   "execution_count": null,
   "id": "9d3d5a5a",
   "metadata": {},
   "outputs": [],
   "source": [
    "val = np.array([46,24,76,35,46])"
   ]
  },
  {
   "cell_type": "markdown",
   "id": "bb33643a",
   "metadata": {},
   "source": [
    "* We can apply any \"Trignometric, Algebric ,etc Functions\" to every single element present in the array"
   ]
  },
  {
   "cell_type": "code",
   "execution_count": null,
   "id": "39597359",
   "metadata": {},
   "outputs": [],
   "source": [
    "np.cos(val)"
   ]
  },
  {
   "cell_type": "code",
   "execution_count": null,
   "id": "ed1b29df",
   "metadata": {},
   "outputs": [],
   "source": [
    "np.tan(val)"
   ]
  },
  {
   "cell_type": "code",
   "execution_count": null,
   "id": "6a421736",
   "metadata": {},
   "outputs": [],
   "source": [
    "np.sin(val)"
   ]
  },
  {
   "cell_type": "code",
   "execution_count": null,
   "id": "dffa29ee",
   "metadata": {},
   "outputs": [],
   "source": [
    "np.sqrt(val)"
   ]
  },
  {
   "cell_type": "markdown",
   "id": "d1ed3d7d",
   "metadata": {},
   "source": [
    "## Where Function\n",
    "#### It is just like \"If and Else\" function of \"Vanilla Python\""
   ]
  },
  {
   "cell_type": "code",
   "execution_count": null,
   "id": "0d44acf6",
   "metadata": {},
   "outputs": [],
   "source": [
    "marks = np.array([22,64,35,89,91,44,30])"
   ]
  },
  {
   "cell_type": "markdown",
   "id": "6ba70b86",
   "metadata": {},
   "source": [
    "* The first condition \"Pass\" will only be execute if the condition is true, similarly the second condion \"Fail\" will be executeif the condition is false!"
   ]
  },
  {
   "cell_type": "code",
   "execution_count": null,
   "id": "895a89c8",
   "metadata": {},
   "outputs": [],
   "source": [
    "np.where(marks >= 40, \"Pass\", \"Fail\")"
   ]
  },
  {
   "cell_type": "code",
   "execution_count": null,
   "id": "5735f927",
   "metadata": {},
   "outputs": [],
   "source": [
    "salary = np.array([30,35,40,45,50,55,60])"
   ]
  },
  {
   "cell_type": "code",
   "execution_count": null,
   "id": "633075f4",
   "metadata": {},
   "outputs": [],
   "source": [
    "np.where(salary < 45, salary*1.1, salary*1.05)"
   ]
  },
  {
   "cell_type": "markdown",
   "id": "2888c451",
   "metadata": {},
   "source": [
    "## Transpose\n",
    "#### Row became column and column became row\n",
    "1. Can use it by \" .T \"\n",
    "2. Can also use it by \"transpose()\""
   ]
  },
  {
   "cell_type": "code",
   "execution_count": null,
   "id": "450593bc",
   "metadata": {},
   "outputs": [],
   "source": [
    "matrix = np.arange(1,101).reshape(10,10)"
   ]
  },
  {
   "cell_type": "code",
   "execution_count": null,
   "id": "66bead52",
   "metadata": {},
   "outputs": [],
   "source": [
    "matrix"
   ]
  },
  {
   "cell_type": "code",
   "execution_count": null,
   "id": "d616fe2c",
   "metadata": {},
   "outputs": [],
   "source": [
    "matrix.T"
   ]
  },
  {
   "cell_type": "code",
   "execution_count": null,
   "id": "5e9bb935",
   "metadata": {},
   "outputs": [],
   "source": [
    "matrix.transpose()"
   ]
  },
  {
   "cell_type": "markdown",
   "id": "f064558e",
   "metadata": {},
   "source": [
    "## Mean Function"
   ]
  },
  {
   "cell_type": "markdown",
   "id": "43c12be1",
   "metadata": {},
   "source": [
    "* It is sue to calculate mean of the elements in array"
   ]
  },
  {
   "cell_type": "code",
   "execution_count": null,
   "id": "dbc6c214",
   "metadata": {},
   "outputs": [],
   "source": [
    "arr = np.array([5,6,4,8,2,3,7])"
   ]
  },
  {
   "cell_type": "code",
   "execution_count": null,
   "id": "59e9ffb9",
   "metadata": {},
   "outputs": [],
   "source": [
    "arr.mean()"
   ]
  },
  {
   "cell_type": "code",
   "execution_count": null,
   "id": "f5955c92",
   "metadata": {},
   "outputs": [],
   "source": [
    "matrix.mean()"
   ]
  },
  {
   "cell_type": "markdown",
   "id": "95ae5a5d",
   "metadata": {},
   "source": [
    "## Cumsum Function"
   ]
  },
  {
   "cell_type": "markdown",
   "id": "0c2a1271",
   "metadata": {},
   "source": [
    "* In this function all the elements in array will make sum with each other in sequence, means 1st num will add with 2nd num, 2nd num will then bw added in 3rd num etc."
   ]
  },
  {
   "cell_type": "code",
   "execution_count": null,
   "id": "e1ba0325",
   "metadata": {},
   "outputs": [],
   "source": [
    "arr.cumsum()"
   ]
  },
  {
   "cell_type": "markdown",
   "id": "20322503",
   "metadata": {},
   "source": [
    "## Cumprod Function"
   ]
  },
  {
   "cell_type": "markdown",
   "id": "d648416d",
   "metadata": {},
   "source": [
    "* It is same as \"cumsum\", the difference is that it will multiply instead of adding"
   ]
  },
  {
   "cell_type": "code",
   "execution_count": null,
   "id": "47ba6afe",
   "metadata": {},
   "outputs": [],
   "source": [
    "arr.cumprod()"
   ]
  },
  {
   "cell_type": "markdown",
   "id": "f46eb787",
   "metadata": {},
   "source": [
    "## Method for \"Boolean Array\"\n",
    "* Remember that methods always have \"()\" in there end!"
   ]
  },
  {
   "cell_type": "code",
   "execution_count": null,
   "id": "d46c7bf2",
   "metadata": {},
   "outputs": [],
   "source": [
    "gender = np.array(['Male','Female','Male','Male','Female','Male'])"
   ]
  },
  {
   "cell_type": "code",
   "execution_count": null,
   "id": "c928f72f",
   "metadata": {},
   "outputs": [],
   "source": [
    "gender[gender == 'Male']"
   ]
  },
  {
   "cell_type": "code",
   "execution_count": null,
   "id": "ab451123",
   "metadata": {},
   "outputs": [],
   "source": [
    "gender == 'Male'"
   ]
  },
  {
   "cell_type": "code",
   "execution_count": null,
   "id": "070423e6",
   "metadata": {},
   "outputs": [],
   "source": [
    "gender == 'Female'"
   ]
  },
  {
   "cell_type": "markdown",
   "id": "2a330907",
   "metadata": {},
   "source": [
    "* The value of True is \"1\" and the value of False is \"2\""
   ]
  },
  {
   "cell_type": "markdown",
   "id": "b97ad907",
   "metadata": {},
   "source": [
    "Which Means if we want to count the number of \"Trues\" we just have to add it"
   ]
  },
  {
   "cell_type": "code",
   "execution_count": null,
   "id": "28b910e1",
   "metadata": {},
   "outputs": [],
   "source": [
    "a = gender == 'Male'"
   ]
  },
  {
   "cell_type": "code",
   "execution_count": null,
   "id": "03a1951c",
   "metadata": {},
   "outputs": [],
   "source": [
    "a.sum()"
   ]
  },
  {
   "cell_type": "code",
   "execution_count": null,
   "id": "394cbe58",
   "metadata": {},
   "outputs": [],
   "source": [
    "b = gender == 'Female'"
   ]
  },
  {
   "cell_type": "code",
   "execution_count": null,
   "id": "fba2c4f8",
   "metadata": {},
   "outputs": [],
   "source": [
    "b.sum()"
   ]
  },
  {
   "cell_type": "markdown",
   "id": "daa42ed0",
   "metadata": {},
   "source": [
    "#### To check that is there any value true"
   ]
  },
  {
   "cell_type": "code",
   "execution_count": null,
   "id": "dad71d80",
   "metadata": {},
   "outputs": [],
   "source": [
    "a"
   ]
  },
  {
   "cell_type": "markdown",
   "id": "0bba6574",
   "metadata": {},
   "source": [
    "* any() is an existential quantifier!"
   ]
  },
  {
   "cell_type": "code",
   "execution_count": null,
   "id": "1c13584e",
   "metadata": {},
   "outputs": [],
   "source": [
    "a.any()"
   ]
  },
  {
   "cell_type": "markdown",
   "id": "bfa95068",
   "metadata": {},
   "source": [
    "#### To check if all the conditions are true"
   ]
  },
  {
   "cell_type": "code",
   "execution_count": null,
   "id": "d4c5d7a2",
   "metadata": {},
   "outputs": [],
   "source": [
    "a.all()"
   ]
  },
  {
   "cell_type": "markdown",
   "id": "581b9ef8",
   "metadata": {},
   "source": [
    "* This \"False\" doesn't means that all the element in the array is false, instead it is telling that all of them are not true, weather only one element is false or whole array ia false it will always give the answer false until, the whole array is true"
   ]
  },
  {
   "cell_type": "code",
   "execution_count": null,
   "id": "733351d3",
   "metadata": {},
   "outputs": [],
   "source": [
    "b.all()"
   ]
  },
  {
   "cell_type": "code",
   "execution_count": null,
   "id": "a1b814ab",
   "metadata": {},
   "outputs": [],
   "source": [
    " n = np.array([22,34,18,6,98])"
   ]
  },
  {
   "cell_type": "markdown",
   "id": "ba87a888",
   "metadata": {},
   "source": [
    "* It is telling that if all the elements are even numbers (divisible by \"2\") then the condition is true"
   ]
  },
  {
   "cell_type": "code",
   "execution_count": null,
   "id": "f7fa5474",
   "metadata": {},
   "outputs": [],
   "source": [
    "x = n%2 == 0"
   ]
  },
  {
   "cell_type": "markdown",
   "id": "6582bba7",
   "metadata": {},
   "source": [
    "* all() is a universal quantifier"
   ]
  },
  {
   "cell_type": "code",
   "execution_count": null,
   "id": "7ef3ff8a",
   "metadata": {},
   "outputs": [],
   "source": [
    "x.all()"
   ]
  },
  {
   "cell_type": "markdown",
   "id": "46b1707d",
   "metadata": {},
   "source": [
    "#### To arrange or sort array"
   ]
  },
  {
   "cell_type": "code",
   "execution_count": null,
   "id": "a340e8a0",
   "metadata": {},
   "outputs": [],
   "source": [
    "n"
   ]
  },
  {
   "cell_type": "code",
   "execution_count": null,
   "id": "f9bab221",
   "metadata": {},
   "outputs": [],
   "source": [
    "n.sort()"
   ]
  },
  {
   "cell_type": "code",
   "execution_count": null,
   "id": "cf156256",
   "metadata": {},
   "outputs": [],
   "source": [
    "n"
   ]
  },
  {
   "cell_type": "markdown",
   "id": "724d2b60",
   "metadata": {},
   "source": [
    "* Can also change its order by"
   ]
  },
  {
   "cell_type": "code",
   "execution_count": null,
   "id": "7310e152",
   "metadata": {},
   "outputs": [],
   "source": [
    "n[::-1]"
   ]
  },
  {
   "cell_type": "markdown",
   "id": "3aa2cebf",
   "metadata": {},
   "source": [
    "#### For unique conditions"
   ]
  },
  {
   "cell_type": "markdown",
   "id": "53e2509d",
   "metadata": {},
   "source": [
    "* If there is any an element multiple times in a  singular array \"np.unique()\" is use to print the array in such way that all the element will print one time only!"
   ]
  },
  {
   "cell_type": "code",
   "execution_count": null,
   "id": "58fefeba",
   "metadata": {},
   "outputs": [],
   "source": [
    "num = np.array([2,3,4,3,5,6,2,6,7,5])\n",
    "num"
   ]
  },
  {
   "cell_type": "code",
   "execution_count": null,
   "id": "e12219a2",
   "metadata": {},
   "outputs": [],
   "source": [
    "np.unique(num)"
   ]
  },
  {
   "cell_type": "markdown",
   "id": "315e01d2",
   "metadata": {},
   "source": [
    "## Saving an array"
   ]
  },
  {
   "cell_type": "code",
   "execution_count": null,
   "id": "076debe8",
   "metadata": {},
   "outputs": [],
   "source": [
    "u = np.unique(num)"
   ]
  },
  {
   "cell_type": "markdown",
   "id": "daa29d46",
   "metadata": {},
   "source": [
    "* 'Data' is a the file name (it can be anything) and \"u\" is the array name "
   ]
  },
  {
   "cell_type": "code",
   "execution_count": null,
   "id": "02b59f5f",
   "metadata": {},
   "outputs": [],
   "source": [
    "np.save('Data',a)"
   ]
  },
  {
   "cell_type": "markdown",
   "id": "cff19169",
   "metadata": {},
   "source": [
    "## Loading the saved array"
   ]
  },
  {
   "cell_type": "code",
   "execution_count": null,
   "id": "63918408",
   "metadata": {},
   "outputs": [],
   "source": [
    "load_array = np.load('Data.npy')"
   ]
  },
  {
   "cell_type": "code",
   "execution_count": null,
   "id": "8ec32d97",
   "metadata": {},
   "outputs": [],
   "source": [
    "load_array"
   ]
  },
  {
   "cell_type": "markdown",
   "id": "e0a9efbe",
   "metadata": {},
   "source": [
    "## Saving multiple arrays in asingle file"
   ]
  },
  {
   "cell_type": "code",
   "execution_count": null,
   "id": "17c6c7ef",
   "metadata": {},
   "outputs": [],
   "source": [
    "students = np.array(['Hashim', 'Ikram', 'Ali', 'Nizam'])\n",
    "marks = np.array([60,70,77,80])"
   ]
  },
  {
   "cell_type": "code",
   "execution_count": null,
   "id": "65239c7d",
   "metadata": {},
   "outputs": [],
   "source": [
    "age = np.array([18,18,20,18])"
   ]
  },
  {
   "cell_type": "markdown",
   "id": "9f32a021",
   "metadata": {},
   "source": [
    "* 'arrays' is a the file name (it can be anything) and the arrays which we are goingto save will always have to be in keyword arguments (and also it can be anything). We can store n numbers of arrays using the following method"
   ]
  },
  {
   "cell_type": "code",
   "execution_count": null,
   "id": "c739087f",
   "metadata": {},
   "outputs": [],
   "source": [
    "np.savez('arrayz',a1=students,a2=marks,a3=age)"
   ]
  },
  {
   "cell_type": "markdown",
   "id": "cf7f1388",
   "metadata": {},
   "source": [
    "## Loading the saved arrays"
   ]
  },
  {
   "cell_type": "markdown",
   "id": "9030bb06",
   "metadata": {},
   "source": [
    "* The load result of saving multiple array will be in the form of dictionary"
   ]
  },
  {
   "cell_type": "code",
   "execution_count": null,
   "id": "3614d776",
   "metadata": {},
   "outputs": [],
   "source": [
    "result = np.load('arrayz.npz')"
   ]
  },
  {
   "cell_type": "code",
   "execution_count": null,
   "id": "941018c3",
   "metadata": {},
   "outputs": [],
   "source": [
    "result['a1']"
   ]
  },
  {
   "cell_type": "code",
   "execution_count": null,
   "id": "aaaa1a5d",
   "metadata": {},
   "outputs": [],
   "source": [
    "result['a2']"
   ]
  },
  {
   "cell_type": "code",
   "execution_count": null,
   "id": "84c54bdd",
   "metadata": {},
   "outputs": [],
   "source": [
    "result['a3']"
   ]
  },
  {
   "cell_type": "markdown",
   "id": "61bd847b",
   "metadata": {},
   "source": [
    "## Linear Algebra Functions"
   ]
  },
  {
   "cell_type": "code",
   "execution_count": null,
   "id": "f7df960b",
   "metadata": {},
   "outputs": [],
   "source": [
    "arr = np.arange(16).reshape(4,4)"
   ]
  },
  {
   "cell_type": "code",
   "execution_count": null,
   "id": "534c176d",
   "metadata": {},
   "outputs": [],
   "source": [
    "arr"
   ]
  },
  {
   "cell_type": "markdown",
   "id": "36e78a58",
   "metadata": {},
   "source": [
    "#### Different Linear Algebraic Functions"
   ]
  },
  {
   "cell_type": "markdown",
   "id": "7625ad4d",
   "metadata": {},
   "source": [
    "* To get diagnal elements out of matrices"
   ]
  },
  {
   "cell_type": "code",
   "execution_count": null,
   "id": "13610aca",
   "metadata": {},
   "outputs": [],
   "source": [
    "arr.diagonal()"
   ]
  },
  {
   "cell_type": "markdown",
   "id": "e3858714",
   "metadata": {},
   "source": [
    "* trace() is the sum of diagonal elements of matrices"
   ]
  },
  {
   "cell_type": "code",
   "execution_count": null,
   "id": "4e9ba79d",
   "metadata": {},
   "outputs": [],
   "source": [
    "arr.trace()"
   ]
  },
  {
   "cell_type": "markdown",
   "id": "104f669d",
   "metadata": {},
   "source": [
    "* dot() is use to multiply a a number or a matrix to another matrix"
   ]
  },
  {
   "cell_type": "code",
   "execution_count": null,
   "id": "bcf28685",
   "metadata": {},
   "outputs": [],
   "source": [
    "arr.dot(5)"
   ]
  },
  {
   "cell_type": "code",
   "execution_count": null,
   "id": "16dd8dc1",
   "metadata": {},
   "outputs": [],
   "source": [
    "arr1 = np.arange(40,56).reshape(4,4)"
   ]
  },
  {
   "cell_type": "code",
   "execution_count": null,
   "id": "fb77b2df",
   "metadata": {},
   "outputs": [],
   "source": [
    "arr1"
   ]
  },
  {
   "cell_type": "code",
   "execution_count": null,
   "id": "a33734d4",
   "metadata": {},
   "outputs": [],
   "source": [
    "arr.dot(arr1)"
   ]
  },
  {
   "cell_type": "markdown",
   "id": "4ffc0fc0",
   "metadata": {},
   "source": [
    "#### Some of these Functions requires a specific library of \"Numpy\""
   ]
  },
  {
   "cell_type": "markdown",
   "id": "0d3cf370",
   "metadata": {},
   "source": [
    "There are two different methods to import\n",
    "1. import numpy.linalg as lg\n",
    "2. from numpy import linalg as lg"
   ]
  },
  {
   "cell_type": "code",
   "execution_count": null,
   "id": "475007e4",
   "metadata": {},
   "outputs": [],
   "source": [
    "from numpy import linalg as lg"
   ]
  },
  {
   "cell_type": "code",
   "execution_count": null,
   "id": "ac0c13cf",
   "metadata": {},
   "outputs": [],
   "source": [
    "lg.det(arr)"
   ]
  },
  {
   "cell_type": "code",
   "execution_count": null,
   "id": "3a5dc80e",
   "metadata": {},
   "outputs": [],
   "source": [
    "lg.det(arr1)"
   ]
  },
  {
   "cell_type": "markdown",
   "id": "4fc457c7",
   "metadata": {},
   "source": [
    "* For eigenvalues"
   ]
  },
  {
   "cell_type": "code",
   "execution_count": null,
   "id": "9248d5ff",
   "metadata": {},
   "outputs": [],
   "source": [
    "lg.eig(arr1)"
   ]
  },
  {
   "cell_type": "markdown",
   "id": "425ec079",
   "metadata": {},
   "source": [
    "* For Inverse"
   ]
  },
  {
   "cell_type": "code",
   "execution_count": null,
   "id": "cdec6d49",
   "metadata": {},
   "outputs": [],
   "source": [
    "lg.inv(arr1)"
   ]
  },
  {
   "cell_type": "markdown",
   "id": "c0a86b3e",
   "metadata": {},
   "source": [
    "* For qr"
   ]
  },
  {
   "cell_type": "markdown",
   "id": "14bdc3ab",
   "metadata": {},
   "source": [
    "qr decompose a single matrix into two matrices"
   ]
  },
  {
   "cell_type": "code",
   "execution_count": null,
   "id": "dc7a8e67",
   "metadata": {},
   "outputs": [],
   "source": [
    "lg.qr(arr1)"
   ]
  },
  {
   "cell_type": "markdown",
   "id": "ec7996b9",
   "metadata": {},
   "source": [
    "* Singular value decomposition"
   ]
  },
  {
   "cell_type": "code",
   "execution_count": null,
   "id": "7d9f0a92",
   "metadata": {},
   "outputs": [],
   "source": [
    "lg.svd(arr1)"
   ]
  },
  {
   "cell_type": "markdown",
   "id": "8e74b115",
   "metadata": {},
   "source": [
    "## For Random Numbers Generation\n",
    "* We have to import \"random library\""
   ]
  },
  {
   "cell_type": "code",
   "execution_count": null,
   "id": "c58315c6",
   "metadata": {},
   "outputs": [],
   "source": [
    "from numpy import random as r"
   ]
  },
  {
   "cell_type": "markdown",
   "id": "ee84cb8d",
   "metadata": {},
   "source": [
    "#### Normal Distribution\n",
    "* \"3,4\" are normal distribution and \"3,3\" is size of matrices\n",
    "* Normally we generate code using \"Normal Distributions\""
   ]
  },
  {
   "cell_type": "code",
   "execution_count": null,
   "id": "221f1bc9",
   "metadata": {},
   "outputs": [],
   "source": [
    "r.normal(3,4,(3,3))"
   ]
  },
  {
   "cell_type": "markdown",
   "id": "12060570",
   "metadata": {},
   "source": [
    "#### Gamma Distribution"
   ]
  },
  {
   "cell_type": "code",
   "execution_count": null,
   "id": "e2e76f5b",
   "metadata": {},
   "outputs": [],
   "source": [
    "r.gamma(4,4,(4,4))"
   ]
  },
  {
   "cell_type": "markdown",
   "id": "09f24405",
   "metadata": {},
   "source": [
    "#### Uniform Distribution"
   ]
  },
  {
   "cell_type": "code",
   "execution_count": null,
   "id": "6559d2e6",
   "metadata": {},
   "outputs": [],
   "source": [
    "r.uniform(3,3,(5,5))"
   ]
  },
  {
   "cell_type": "markdown",
   "id": "ecfef326",
   "metadata": {},
   "source": [
    "## Seed\n",
    "##### Seed is very important in random number generation in \"AI Machine Learning\"\n",
    "* If a person is working on a seed which is for example set on \"5\"(can be any digit) and generating random codes, since the code is random it is nearly imposible for me to get random codes as same as him, until I set my seed also on \"5\" in this way we all get same results of random generation if we are all using the same seed!"
   ]
  },
  {
   "cell_type": "markdown",
   "id": "cb9f9634",
   "metadata": {},
   "source": [
    "* For example:\n",
    "1. If I generate random code not using a set seed the generation will be different all the time"
   ]
  },
  {
   "cell_type": "code",
   "execution_count": null,
   "id": "5c7ccaba",
   "metadata": {},
   "outputs": [],
   "source": [
    "r.rand()"
   ]
  },
  {
   "cell_type": "code",
   "execution_count": null,
   "id": "35dc1514",
   "metadata": {},
   "outputs": [],
   "source": [
    "r.rand()"
   ]
  },
  {
   "cell_type": "code",
   "execution_count": null,
   "id": "d73e2f55",
   "metadata": {},
   "outputs": [],
   "source": [
    "r.rand()"
   ]
  },
  {
   "cell_type": "markdown",
   "id": "1659404b",
   "metadata": {},
   "source": [
    "2. But if I use a set seed i will get the same result all the time"
   ]
  },
  {
   "cell_type": "code",
   "execution_count": null,
   "id": "cd2aa1ee",
   "metadata": {},
   "outputs": [],
   "source": [
    "r.seed(5)"
   ]
  },
  {
   "cell_type": "code",
   "execution_count": null,
   "id": "db126540",
   "metadata": {},
   "outputs": [],
   "source": [
    "r.rand()"
   ]
  },
  {
   "cell_type": "markdown",
   "id": "6e52baaa",
   "metadata": {},
   "source": [
    "## Reshaping In Detail"
   ]
  },
  {
   "cell_type": "code",
   "execution_count": null,
   "id": "d0b42aff",
   "metadata": {},
   "outputs": [],
   "source": [
    "a = np.arange(16)\n",
    "a"
   ]
  },
  {
   "cell_type": "markdown",
   "id": "7dba2840",
   "metadata": {},
   "source": [
    "* \"C\" is for (row major) and \"F\" is Fortran which is for(column major).\n",
    "* The default value is row major(C)"
   ]
  },
  {
   "cell_type": "code",
   "execution_count": null,
   "id": "e7f7b2cc",
   "metadata": {},
   "outputs": [],
   "source": [
    "b = a.reshape((4,4),order='F')\n",
    "b"
   ]
  },
  {
   "cell_type": "code",
   "execution_count": null,
   "id": "0f2bd305",
   "metadata": {},
   "outputs": [],
   "source": [
    "c = a.reshape((4,4),order='C')\n",
    "c"
   ]
  },
  {
   "cell_type": "markdown",
   "id": "25c60510",
   "metadata": {},
   "source": [
    "#### Flattening an Array\n",
    "* It is used to flatten a multi-dimentional array into a single dimentional form, there are two methods of flattening an array,\n",
    "1. flatten()\n",
    "2. ravel()\n",
    "* Both commands almost does a same job with some differences"
   ]
  },
  {
   "cell_type": "code",
   "execution_count": null,
   "id": "03709c6f",
   "metadata": {},
   "outputs": [],
   "source": [
    "arr = np.array([[5,7,3],[8,4,1],[9,6,2]])"
   ]
  },
  {
   "cell_type": "code",
   "execution_count": null,
   "id": "b483884a",
   "metadata": {},
   "outputs": [],
   "source": [
    "arr"
   ]
  },
  {
   "cell_type": "code",
   "execution_count": null,
   "id": "0cd4b9df",
   "metadata": {},
   "outputs": [],
   "source": [
    "arr.flatten()"
   ]
  },
  {
   "cell_type": "markdown",
   "id": "249b5ad0",
   "metadata": {},
   "source": [
    "* Can also do it by \"reshape()\" method"
   ]
  },
  {
   "cell_type": "code",
   "execution_count": null,
   "id": "0d7fa0ba",
   "metadata": {},
   "outputs": [],
   "source": [
    "arr.reshape(9)"
   ]
  },
  {
   "cell_type": "markdown",
   "id": "6c7d23fe",
   "metadata": {},
   "source": [
    "## Concatenate or Stacking"
   ]
  },
  {
   "cell_type": "code",
   "execution_count": null,
   "id": "1837bd6a",
   "metadata": {},
   "outputs": [],
   "source": [
    "a = np.array([[1,2,3,4],[5,6,7,8]])"
   ]
  },
  {
   "cell_type": "code",
   "execution_count": null,
   "id": "9d57a746",
   "metadata": {},
   "outputs": [],
   "source": [
    "b = np.array([[9,10,11,12],[13,14,15,16]])"
   ]
  },
  {
   "cell_type": "code",
   "execution_count": null,
   "id": "5af8e45d",
   "metadata": {},
   "outputs": [],
   "source": [
    "print(a)\n",
    "print(b)"
   ]
  },
  {
   "cell_type": "code",
   "execution_count": null,
   "id": "18181775",
   "metadata": {},
   "outputs": [],
   "source": [
    "np.concatenate((a,b))"
   ]
  },
  {
   "cell_type": "markdown",
   "id": "0c430839",
   "metadata": {},
   "source": [
    "* The default concatenation will always be row wise, but can be change into column wise by changing the value of axis\n",
    "1. \"0\" is for row wise\n",
    "2. \"1\" is for column wise"
   ]
  },
  {
   "cell_type": "code",
   "execution_count": null,
   "id": "e36f5fe1",
   "metadata": {},
   "outputs": [],
   "source": [
    "np.concatenate((a,b),axis=1)"
   ]
  },
  {
   "cell_type": "markdown",
   "id": "16b019d4",
   "metadata": {},
   "source": [
    "* Concatenation can also be done by,\n",
    "1. \"hstack()\" which is horizontal(column) wise stacking\n",
    "2. \"vstack()\" which is verticle(row) wise stacking"
   ]
  },
  {
   "cell_type": "code",
   "execution_count": null,
   "id": "94c13c9a",
   "metadata": {},
   "outputs": [],
   "source": [
    "np.hstack((a,b))"
   ]
  },
  {
   "cell_type": "code",
   "execution_count": null,
   "id": "5986e884",
   "metadata": {},
   "outputs": [],
   "source": [
    "np.vstack((a,b))"
   ]
  },
  {
   "cell_type": "markdown",
   "id": "7fc13dd7",
   "metadata": {},
   "source": [
    "* Concatenation can also be done by,\n",
    "1. \"c_[]\" which is horizontal(row) wise stacking\n",
    "2. \"r_[]\" which is verticle(column) wise stacking\n",
    "* Remember these ones are using square brackets []"
   ]
  },
  {
   "cell_type": "code",
   "execution_count": null,
   "id": "e10784ff",
   "metadata": {},
   "outputs": [],
   "source": [
    "np.c_[a,b]"
   ]
  },
  {
   "cell_type": "code",
   "execution_count": null,
   "id": "27fe2e8d",
   "metadata": {},
   "outputs": [],
   "source": [
    "np.r_[b,a]"
   ]
  },
  {
   "cell_type": "code",
   "execution_count": null,
   "id": "3fd87f6d",
   "metadata": {},
   "outputs": [],
   "source": [
    "np.r_[b,a,b,b]"
   ]
  },
  {
   "cell_type": "markdown",
   "id": "8f4701c3",
   "metadata": {},
   "source": [
    "## Spliting"
   ]
  },
  {
   "cell_type": "markdown",
   "id": "a6f1a72a",
   "metadata": {},
   "source": [
    "#### Splitting One dimensional array"
   ]
  },
  {
   "cell_type": "code",
   "execution_count": null,
   "id": "fa363231",
   "metadata": {},
   "outputs": [],
   "source": [
    "x = np.array([1,2,3,4,7,8,9])"
   ]
  },
  {
   "cell_type": "markdown",
   "id": "589151bc",
   "metadata": {},
   "source": [
    "* Here \"x\" is Array and \"3\" is the index"
   ]
  },
  {
   "cell_type": "code",
   "execution_count": null,
   "id": "85b873f2",
   "metadata": {},
   "outputs": [],
   "source": [
    "np.split(x,[3])"
   ]
  },
  {
   "cell_type": "code",
   "execution_count": null,
   "id": "c5dc0cd6",
   "metadata": {},
   "outputs": [],
   "source": [
    "np.split(x,[2,5])"
   ]
  },
  {
   "cell_type": "markdown",
   "id": "7012b706",
   "metadata": {},
   "source": [
    "* First \"2,7\" in the range and the lasts 2\"\" is the inteval"
   ]
  },
  {
   "cell_type": "code",
   "execution_count": null,
   "id": "5bc70bf0",
   "metadata": {},
   "outputs": [],
   "source": [
    "l = np.arange(2,7,2)"
   ]
  },
  {
   "cell_type": "code",
   "execution_count": null,
   "id": "6d74aa60",
   "metadata": {},
   "outputs": [],
   "source": [
    "np.split(x,l)"
   ]
  },
  {
   "cell_type": "markdown",
   "id": "1025917a",
   "metadata": {},
   "source": [
    "#### Splitting Two dimensional array"
   ]
  },
  {
   "cell_type": "code",
   "execution_count": null,
   "id": "b6dd7e4d",
   "metadata": {},
   "outputs": [],
   "source": [
    "q = np.array([[1,2,3],[4,5,6],[7,8,9]])"
   ]
  },
  {
   "cell_type": "code",
   "execution_count": null,
   "id": "da09e53c",
   "metadata": {},
   "outputs": [],
   "source": [
    "q"
   ]
  },
  {
   "cell_type": "code",
   "execution_count": null,
   "id": "add3b2c3",
   "metadata": {},
   "outputs": [],
   "source": [
    "np.split(q,[2])"
   ]
  },
  {
   "cell_type": "markdown",
   "id": "8ce75cea",
   "metadata": {},
   "source": [
    "* By default the split will alway be row wise, for column wise splitting we have to mention the axis!\n",
    "1. \"axis = 0\" for row wise splitting\n",
    "2. \"axis = 1\" for column wise splitting"
   ]
  },
  {
   "cell_type": "code",
   "execution_count": null,
   "id": "61069ddb",
   "metadata": {},
   "outputs": [],
   "source": [
    "np.split(q,[2],axis=0)"
   ]
  },
  {
   "cell_type": "code",
   "execution_count": null,
   "id": "58402281",
   "metadata": {},
   "outputs": [],
   "source": [
    "np.split(q,[2],axis=1)"
   ]
  },
  {
   "cell_type": "markdown",
   "id": "ba97a8d9",
   "metadata": {},
   "source": [
    "* We can also use,\n",
    "1. \"vsplit\" for verticle split.\n",
    "2. \"hsplit\" for horizontal split."
   ]
  },
  {
   "cell_type": "code",
   "execution_count": null,
   "id": "a8f05cd7",
   "metadata": {},
   "outputs": [],
   "source": [
    "np.hsplit(q,[2])"
   ]
  },
  {
   "cell_type": "code",
   "execution_count": null,
   "id": "85d0291e",
   "metadata": {},
   "outputs": [],
   "source": [
    "np.vsplit(q,[2])"
   ]
  }
 ],
 "metadata": {
  "kernelspec": {
   "display_name": "Python 3 (ipykernel)",
   "language": "python",
   "name": "python3"
  },
  "language_info": {
   "codemirror_mode": {
    "name": "ipython",
    "version": 3
   },
   "file_extension": ".py",
   "mimetype": "text/x-python",
   "name": "python",
   "nbconvert_exporter": "python",
   "pygments_lexer": "ipython3",
   "version": "3.9.12"
  }
 },
 "nbformat": 4,
 "nbformat_minor": 5
}
